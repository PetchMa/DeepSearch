{
  "nbformat": 4,
  "nbformat_minor": 0,
  "metadata": {
    "colab": {
      "name": "deepsearch",
      "provenance": [],
      "collapsed_sections": []
    },
    "kernelspec": {
      "name": "python3",
      "display_name": "Python 3"
    },
    "accelerator": "GPU"
  },
  "cells": [
    {
      "cell_type": "code",
      "metadata": {
        "id": "L8aeEXYcZqIm",
        "colab_type": "code",
        "colab": {
          "base_uri": "https://localhost:8080/",
          "height": 153
        },
        "outputId": "3280c420-9ef5-4b33-ea21-a3f6952613fc"
      },
      "source": [
        "!wget \thttp://blpd13.ssl.berkeley.edu/dl/GBT_58402_66623_NGC5238_mid.h5\n"
      ],
      "execution_count": 2,
      "outputs": [
        {
          "output_type": "stream",
          "text": [
            "--2020-03-21 21:30:45--  http://blpd13.ssl.berkeley.edu/dl/GBT_58402_66623_NGC5238_mid.h5\n",
            "Resolving blpd13.ssl.berkeley.edu (blpd13.ssl.berkeley.edu)... 208.68.240.55\n",
            "Connecting to blpd13.ssl.berkeley.edu (blpd13.ssl.berkeley.edu)|208.68.240.55|:80... connected.\n",
            "HTTP request sent, awaiting response... 200 OK\n",
            "Length: 242300762 (231M) [application/octet-stream]\n",
            "Saving to: ‘GBT_58402_66623_NGC5238_mid.h5.1’\n",
            "\n",
            "       GBT_58402_66  26%[====>               ]  62.27M   104MB/s               ^C\n"
          ],
          "name": "stdout"
        }
      ]
    },
    {
      "cell_type": "code",
      "metadata": {
        "id": "pBVPGB_2Zvo5",
        "colab_type": "code",
        "colab": {
          "base_uri": "https://localhost:8080/",
          "height": 80
        },
        "outputId": "782d23f2-d014-4234-db64-c26239e5d873"
      },
      "source": [
        "# !pip install blimpy \n",
        "import tensorflow as tf \n",
        "import keras\n",
        "from keras.models import Sequential \n",
        "from keras.layers import Dense, Dropout, LSTM, CuDNNLSTM, ConvLSTM2D\n",
        "from keras.layers.core import Activation, Flatten\n",
        "import matplotlib.pyplot as plt\n",
        "from keras.optimizers import SGD,RMSprop,adam\n",
        "from keras.models import load_model\n",
        "from sklearn.utils import shuffle\n",
        "from keras.losses import binary_crossentropy\n",
        "from sklearn.model_selection import train_test_split\n",
        "from keras.utils import np_utils\n",
        "import os, os.path\n",
        "import numpy as np\n",
        "import tempfile\n",
        "from keras.layers import Reshape\n",
        "from keras import losses\n",
        "from keras.layers.advanced_activations import LeakyReLU \n",
        "from keras.activations import sigmoid\n",
        "from scipy.io import wavfile\n",
        "from keras.layers import Input, LSTM, MaxPooling1D, Conv1D\n",
        "from keras.models import Model\n",
        "from keras import backend as K\n",
        "from keras.layers.convolutional import Convolution1D\n",
        "from keras.layers import  Conv2D, MaxPool3D, MaxPooling2D, TimeDistributed, Embedding, Convolution2D , Lambda\n",
        "from keras.layers import BatchNormalization\n",
        "from keras.callbacks import TensorBoard\n",
        "from keras.callbacks import EarlyStopping, ModelCheckpoint\n",
        "from sklearn.metrics import confusion_matrix\n",
        "import pylab as plt\n",
        "from blimpy import Waterfall\n",
        "from keras.layers import Reshape, Conv2DTranspose, BatchNormalization, ZeroPadding2D\n",
        "from astropy import units as u\n",
        "from keras.layers import Softmax\n",
        "from  keras.backend import expand_dims\n",
        "# !pip install setigen \n",
        "from random import seed\n",
        "from random import random\n",
        "from astropy import units as u\n",
        "import setigen as stg"
      ],
      "execution_count": 3,
      "outputs": [
        {
          "output_type": "display_data",
          "data": {
            "text/html": [
              "<p style=\"color: red;\">\n",
              "The default version of TensorFlow in Colab will soon switch to TensorFlow 2.x.<br>\n",
              "We recommend you <a href=\"https://www.tensorflow.org/guide/migrate\" target=\"_blank\">upgrade</a> now \n",
              "or ensure your notebook will continue to use TensorFlow 1.x via the <code>%tensorflow_version 1.x</code> magic:\n",
              "<a href=\"https://colab.research.google.com/notebooks/tensorflow_version.ipynb\" target=\"_blank\">more info</a>.</p>\n"
            ],
            "text/plain": [
              "<IPython.core.display.HTML object>"
            ]
          },
          "metadata": {
            "tags": []
          }
        },
        {
          "output_type": "stream",
          "text": [
            "Using TensorFlow backend.\n"
          ],
          "name": "stderr"
        }
      ]
    },
    {
      "cell_type": "code",
      "metadata": {
        "id": "LVhgmbYpZ07k",
        "colab_type": "code",
        "colab": {
          "base_uri": "https://localhost:8080/",
          "height": 119
        },
        "outputId": "71352a4e-45d5-4751-b8a9-1b23e5293ffa"
      },
      "source": [
        "from preprocessing import DataProcessing as dp\n",
        "from synthetic import synthetic as synth \n",
        "direct = ['/content/GBT_58402_66623_NGC5238_mid.h5',\n",
        "          '/content/GBT_58402_66623_NGC5238_mid.h5',\n",
        "          '/content/GBT_58402_66623_NGC5238_mid.h5'\n",
        "          ]\n",
        "dp = dp()\n",
        "X_train_unsupervised, X_test_unsupervised = dp.load_multiple_files(list_directory=direct)\n",
        "syth = synth()\n",
        "X_train_supervised, X_test_supervised, y_train_supervised, y_test_supervised  = syth.generate(total_num_samples= 5000, data = X_train_unsupervised)"
      ],
      "execution_count": 4,
      "outputs": [
        {
          "output_type": "stream",
          "text": [
            "single Data load Execution: 7.655982732772827 Sec\n",
            "single Data load Execution: 1.2795677185058594 Sec\n",
            "single Data load Execution: 1.1205339431762695 Sec\n",
            "(10000, 2)\n",
            "(10000, 32, 1, 32)\n",
            "Synethtic Generation Execution Time: 6.876758098602295\n"
          ],
          "name": "stdout"
        }
      ]
    },
    {
      "cell_type": "code",
      "metadata": {
        "id": "zqG_CAJDZ2IG",
        "colab_type": "code",
        "colab": {
          "base_uri": "https://localhost:8080/",
          "height": 391
        },
        "outputId": "7f74468f-4d40-4dcc-aeca-d8ec583d5723"
      },
      "source": [
        "%matplotlib inline\n",
        "fig = plt.figure(figsize=(10, 6))\n",
        "plt.imshow(X_train_supervised[11,:,0,:], aspect='auto')\n",
        "plt.colorbar()"
      ],
      "execution_count": 5,
      "outputs": [
        {
          "output_type": "execute_result",
          "data": {
            "text/plain": [
              "<matplotlib.colorbar.Colorbar at 0x7f03a9e5f908>"
            ]
          },
          "metadata": {
            "tags": []
          },
          "execution_count": 5
        },
        {
          "output_type": "display_data",
          "data": {
            "image/png": "[encoded data removed]",
            "text/plain": [
              "<Figure size 720x432 with 2 Axes>"
            ]
          },
          "metadata": {
            "tags": []
          }
        }
      ]
    },
    {
      "cell_type": "code",
      "metadata": {
        "id": "AGthTzrXZ41p",
        "colab_type": "code",
        "colab": {
          "base_uri": "https://localhost:8080/",
          "height": 853
        },
        "outputId": "933ce62e-3cc5-4b8f-cedb-bdb8ef20a40f"
      },
      "source": [
        "from model import model as model1 \n",
        "\n",
        "mod = model1(latent_dim=64, kernel_size=(3,3), data_shape=X_train_unsupervised[0].shape, layer_filters =[32,64,128], CuDNNLSTM=True)\n",
        "encode = mod.encoder()\n",
        "feature_classification = mod.feature_classification()\n",
        "latent_encode = mod.latent_encode()\n",
        "decoder = mod.decoder()\n",
        "\n",
        "inputs = Input(shape=X_train_unsupervised[0].shape, name='input')\n",
        "\n",
        "encoder_final = Model(inputs, feature_classification(encode(inputs)), name='encoder_training')\n",
        "\n",
        "AutoEncoder= Model(inputs, decoder(latent_encode(encode(inputs))), name='autoencoder')\n",
        "\n",
        "\n",
        "\n"
      ],
      "execution_count": 3,
      "outputs": [
        {
          "output_type": "stream",
          "text": [
            "WARNING:tensorflow:From /usr/local/lib/python3.6/dist-packages/keras/backend/tensorflow_backend.py:66: The name tf.get_default_graph is deprecated. Please use tf.compat.v1.get_default_graph instead.\n",
            "\n",
            "tensorflow      WARNING  From /usr/local/lib/python3.6/dist-packages/keras/backend/tensorflow_backend.py:66: The name tf.get_default_graph is deprecated. Please use tf.compat.v1.get_default_graph instead.\n",
            "\n",
            "WARNING:tensorflow:From /usr/local/lib/python3.6/dist-packages/keras/backend/tensorflow_backend.py:541: The name tf.placeholder is deprecated. Please use tf.compat.v1.placeholder instead.\n",
            "\n",
            "tensorflow      WARNING  From /usr/local/lib/python3.6/dist-packages/keras/backend/tensorflow_backend.py:541: The name tf.placeholder is deprecated. Please use tf.compat.v1.placeholder instead.\n",
            "\n",
            "WARNING:tensorflow:From /usr/local/lib/python3.6/dist-packages/keras/backend/tensorflow_backend.py:4479: The name tf.truncated_normal is deprecated. Please use tf.random.truncated_normal instead.\n",
            "\n",
            "tensorflow      WARNING  From /usr/local/lib/python3.6/dist-packages/keras/backend/tensorflow_backend.py:4479: The name tf.truncated_normal is deprecated. Please use tf.random.truncated_normal instead.\n",
            "\n",
            "WARNING:tensorflow:From /usr/local/lib/python3.6/dist-packages/keras/backend/tensorflow_backend.py:190: The name tf.get_default_session is deprecated. Please use tf.compat.v1.get_default_session instead.\n",
            "\n",
            "tensorflow      WARNING  From /usr/local/lib/python3.6/dist-packages/keras/backend/tensorflow_backend.py:190: The name tf.get_default_session is deprecated. Please use tf.compat.v1.get_default_session instead.\n",
            "\n",
            "WARNING:tensorflow:From /usr/local/lib/python3.6/dist-packages/keras/backend/tensorflow_backend.py:197: The name tf.ConfigProto is deprecated. Please use tf.compat.v1.ConfigProto instead.\n",
            "\n",
            "tensorflow      WARNING  From /usr/local/lib/python3.6/dist-packages/keras/backend/tensorflow_backend.py:197: The name tf.ConfigProto is deprecated. Please use tf.compat.v1.ConfigProto instead.\n",
            "\n",
            "WARNING:tensorflow:From /usr/local/lib/python3.6/dist-packages/keras/backend/tensorflow_backend.py:203: The name tf.Session is deprecated. Please use tf.compat.v1.Session instead.\n",
            "\n",
            "tensorflow      WARNING  From /usr/local/lib/python3.6/dist-packages/keras/backend/tensorflow_backend.py:203: The name tf.Session is deprecated. Please use tf.compat.v1.Session instead.\n",
            "\n",
            "WARNING:tensorflow:From /usr/local/lib/python3.6/dist-packages/keras/backend/tensorflow_backend.py:207: The name tf.global_variables is deprecated. Please use tf.compat.v1.global_variables instead.\n",
            "\n",
            "tensorflow      WARNING  From /usr/local/lib/python3.6/dist-packages/keras/backend/tensorflow_backend.py:207: The name tf.global_variables is deprecated. Please use tf.compat.v1.global_variables instead.\n",
            "\n",
            "WARNING:tensorflow:From /usr/local/lib/python3.6/dist-packages/keras/backend/tensorflow_backend.py:216: The name tf.is_variable_initialized is deprecated. Please use tf.compat.v1.is_variable_initialized instead.\n",
            "\n",
            "tensorflow      WARNING  From /usr/local/lib/python3.6/dist-packages/keras/backend/tensorflow_backend.py:216: The name tf.is_variable_initialized is deprecated. Please use tf.compat.v1.is_variable_initialized instead.\n",
            "\n",
            "WARNING:tensorflow:From /usr/local/lib/python3.6/dist-packages/keras/backend/tensorflow_backend.py:223: The name tf.variables_initializer is deprecated. Please use tf.compat.v1.variables_initializer instead.\n",
            "\n",
            "tensorflow      WARNING  From /usr/local/lib/python3.6/dist-packages/keras/backend/tensorflow_backend.py:223: The name tf.variables_initializer is deprecated. Please use tf.compat.v1.variables_initializer instead.\n",
            "\n",
            "WARNING:tensorflow:From /usr/local/lib/python3.6/dist-packages/keras/backend/tensorflow_backend.py:2041: The name tf.nn.fused_batch_norm is deprecated. Please use tf.compat.v1.nn.fused_batch_norm instead.\n",
            "\n",
            "tensorflow      WARNING  From /usr/local/lib/python3.6/dist-packages/keras/backend/tensorflow_backend.py:2041: The name tf.nn.fused_batch_norm is deprecated. Please use tf.compat.v1.nn.fused_batch_norm instead.\n",
            "\n",
            "WARNING:tensorflow:From /usr/local/lib/python3.6/dist-packages/keras/backend/tensorflow_backend.py:148: The name tf.placeholder_with_default is deprecated. Please use tf.compat.v1.placeholder_with_default instead.\n",
            "\n",
            "tensorflow      WARNING  From /usr/local/lib/python3.6/dist-packages/keras/backend/tensorflow_backend.py:148: The name tf.placeholder_with_default is deprecated. Please use tf.compat.v1.placeholder_with_default instead.\n",
            "\n",
            "WARNING:tensorflow:From /usr/local/lib/python3.6/dist-packages/keras/backend/tensorflow_backend.py:4432: The name tf.random_uniform is deprecated. Please use tf.random.uniform instead.\n",
            "\n",
            "tensorflow      WARNING  From /usr/local/lib/python3.6/dist-packages/keras/backend/tensorflow_backend.py:4432: The name tf.random_uniform is deprecated. Please use tf.random.uniform instead.\n",
            "\n"
          ],
          "name": "stdout"
        }
      ]
    },
    {
      "cell_type": "code",
      "metadata": {
        "id": "PztV1WQIZ7HN",
        "colab_type": "code",
        "colab": {
          "base_uri": "https://localhost:8080/",
          "height": 1000
        },
        "outputId": "ff78cbda-2fc5-48a2-d49c-f1dc4f5341a5"
      },
      "source": [
        "from train import train \n",
        "inputs = Input(shape=X_train_unsupervised[0].shape, name='input')\n",
        "train_obj = train()\n",
        "train = train_obj.train_model( epoch=5, inputs=inputs, encode = encode, feature_encode=feature_classification, \n",
        "              decoder=decoder, latent_encode=latent_encode\n",
        "              , X_train_unsupervised=X_train_unsupervised\n",
        "              , X_test_unsupervised=X_test_unsupervised\n",
        "              , X_train_supervised=X_train_supervised\n",
        "              , X_test_supervised=X_test_supervised\n",
        "              , y_train_supervised=y_train_supervised,\n",
        "              y_test_supervised=y_test_supervised)\n"
      ],
      "execution_count": 6,
      "outputs": [
        {
          "output_type": "stream",
          "text": [
            "WARNING:tensorflow:From /usr/local/lib/python3.6/dist-packages/keras/optimizers.py:793: The name tf.train.Optimizer is deprecated. Please use tf.compat.v1.train.Optimizer instead.\n",
            "\n",
            "tensorflow      WARNING  From /usr/local/lib/python3.6/dist-packages/keras/optimizers.py:793: The name tf.train.Optimizer is deprecated. Please use tf.compat.v1.train.Optimizer instead.\n",
            "\n",
            "WARNING:tensorflow:From /usr/local/lib/python3.6/dist-packages/keras/backend/tensorflow_backend.py:3657: The name tf.log is deprecated. Please use tf.math.log instead.\n",
            "\n",
            "tensorflow      WARNING  From /usr/local/lib/python3.6/dist-packages/keras/backend/tensorflow_backend.py:3657: The name tf.log is deprecated. Please use tf.math.log instead.\n",
            "\n",
            "WARNING:tensorflow:From /tensorflow-1.15.0/python3.6/tensorflow_core/python/ops/nn_impl.py:183: where (from tensorflow.python.ops.array_ops) is deprecated and will be removed in a future version.\n",
            "Instructions for updating:\n",
            "Use tf.where in 2.0, which has the same broadcast rule as np.where\n",
            "tensorflow      WARNING  From /tensorflow-1.15.0/python3.6/tensorflow_core/python/ops/nn_impl.py:183: where (from tensorflow.python.ops.array_ops) is deprecated and will be removed in a future version.\n",
            "Instructions for updating:\n",
            "Use tf.where in 2.0, which has the same broadcast rule as np.where\n",
            "--------------ENCODER TRAIN--------------0\n",
            "WARNING:tensorflow:From /usr/local/lib/python3.6/dist-packages/keras/backend/tensorflow_backend.py:1033: The name tf.assign_add is deprecated. Please use tf.compat.v1.assign_add instead.\n",
            "\n",
            "tensorflow      WARNING  From /usr/local/lib/python3.6/dist-packages/keras/backend/tensorflow_backend.py:1033: The name tf.assign_add is deprecated. Please use tf.compat.v1.assign_add instead.\n",
            "\n",
            "WARNING:tensorflow:From /usr/local/lib/python3.6/dist-packages/keras/backend/tensorflow_backend.py:1020: The name tf.assign is deprecated. Please use tf.compat.v1.assign instead.\n",
            "\n",
            "tensorflow      WARNING  From /usr/local/lib/python3.6/dist-packages/keras/backend/tensorflow_backend.py:1020: The name tf.assign is deprecated. Please use tf.compat.v1.assign instead.\n",
            "\n",
            "Train on 8000 samples, validate on 2000 samples\n",
            "Epoch 1/40\n",
            "8000/8000 [==============================] - 10s 1ms/step - loss: 0.6362 - acc: 0.6645 - val_loss: 0.6339 - val_acc: 0.6220\n",
            "Epoch 2/40\n",
            "8000/8000 [==============================] - 1s 71us/step - loss: 0.5457 - acc: 0.7270 - val_loss: 0.6817 - val_acc: 0.5865\n",
            "Epoch 3/40\n",
            "8000/8000 [==============================] - 1s 70us/step - loss: 0.4731 - acc: 0.7709 - val_loss: 0.6322 - val_acc: 0.6515\n",
            "Epoch 4/40\n",
            "8000/8000 [==============================] - 1s 72us/step - loss: 0.4275 - acc: 0.8046 - val_loss: 0.8756 - val_acc: 0.6060\n",
            "Epoch 5/40\n",
            "8000/8000 [==============================] - 1s 70us/step - loss: 0.3942 - acc: 0.8233 - val_loss: 1.3904 - val_acc: 0.5685\n",
            "Epoch 6/40\n",
            "8000/8000 [==============================] - 1s 70us/step - loss: 0.3974 - acc: 0.8167 - val_loss: 1.0752 - val_acc: 0.5445\n",
            "Epoch 7/40\n",
            "8000/8000 [==============================] - 1s 72us/step - loss: 0.3824 - acc: 0.8251 - val_loss: 1.1625 - val_acc: 0.5800\n",
            "Epoch 8/40\n",
            "8000/8000 [==============================] - 1s 70us/step - loss: 0.3707 - acc: 0.8381 - val_loss: 0.9320 - val_acc: 0.6185\n",
            "Epoch 9/40\n",
            "8000/8000 [==============================] - 1s 69us/step - loss: 0.3775 - acc: 0.8338 - val_loss: 1.6736 - val_acc: 0.6185\n",
            "Epoch 10/40\n",
            "8000/8000 [==============================] - 1s 70us/step - loss: 0.3403 - acc: 0.8554 - val_loss: 1.9410 - val_acc: 0.5025\n",
            "Epoch 11/40\n",
            "8000/8000 [==============================] - 1s 74us/step - loss: 0.3093 - acc: 0.8710 - val_loss: 0.5051 - val_acc: 0.7665\n",
            "Epoch 12/40\n",
            "8000/8000 [==============================] - 1s 70us/step - loss: 0.3370 - acc: 0.8577 - val_loss: 0.9215 - val_acc: 0.6560\n",
            "Epoch 13/40\n",
            "8000/8000 [==============================] - 1s 70us/step - loss: 0.2820 - acc: 0.8850 - val_loss: 0.8951 - val_acc: 0.5645\n",
            "Epoch 14/40\n",
            "8000/8000 [==============================] - 1s 71us/step - loss: 0.2853 - acc: 0.8781 - val_loss: 0.7015 - val_acc: 0.7615\n",
            "Epoch 15/40\n",
            "8000/8000 [==============================] - 1s 71us/step - loss: 0.2583 - acc: 0.8962 - val_loss: 1.2602 - val_acc: 0.5880\n",
            "Epoch 16/40\n",
            "8000/8000 [==============================] - 1s 68us/step - loss: 0.3081 - acc: 0.8740 - val_loss: 1.0716 - val_acc: 0.5995\n",
            "Epoch 17/40\n",
            "8000/8000 [==============================] - 1s 69us/step - loss: 0.2616 - acc: 0.8876 - val_loss: 1.0845 - val_acc: 0.5800\n",
            "Epoch 18/40\n",
            "8000/8000 [==============================] - 1s 68us/step - loss: 0.2339 - acc: 0.9151 - val_loss: 1.5732 - val_acc: 0.5330\n",
            "Epoch 19/40\n",
            "8000/8000 [==============================] - 1s 70us/step - loss: 0.2219 - acc: 0.9220 - val_loss: 1.6450 - val_acc: 0.5720\n",
            "Epoch 20/40\n",
            "8000/8000 [==============================] - 1s 69us/step - loss: 0.2369 - acc: 0.9033 - val_loss: 1.1212 - val_acc: 0.5795\n",
            "Epoch 21/40\n",
            "8000/8000 [==============================] - 1s 72us/step - loss: 0.2227 - acc: 0.9124 - val_loss: 1.3104 - val_acc: 0.7095\n",
            "Epoch 22/40\n",
            "8000/8000 [==============================] - 1s 70us/step - loss: 0.1960 - acc: 0.9272 - val_loss: 1.3957 - val_acc: 0.5000\n",
            "Epoch 23/40\n",
            "8000/8000 [==============================] - 1s 71us/step - loss: 0.1932 - acc: 0.9321 - val_loss: 1.4967 - val_acc: 0.5350\n",
            "Epoch 24/40\n",
            "8000/8000 [==============================] - 1s 71us/step - loss: 0.1963 - acc: 0.9247 - val_loss: 1.8193 - val_acc: 0.5755\n",
            "Epoch 25/40\n",
            "8000/8000 [==============================] - 1s 68us/step - loss: 0.2394 - acc: 0.9041 - val_loss: 1.3826 - val_acc: 0.5805\n",
            "Epoch 26/40\n",
            "8000/8000 [==============================] - 1s 70us/step - loss: 0.1973 - acc: 0.9301 - val_loss: 1.7498 - val_acc: 0.5880\n",
            "Epoch 27/40\n",
            "8000/8000 [==============================] - 1s 70us/step - loss: 0.2142 - acc: 0.9193 - val_loss: 2.0855 - val_acc: 0.5000\n",
            "Epoch 28/40\n",
            "8000/8000 [==============================] - 1s 70us/step - loss: 0.1877 - acc: 0.9314 - val_loss: 2.4924 - val_acc: 0.5000\n",
            "Epoch 29/40\n",
            "8000/8000 [==============================] - 1s 72us/step - loss: 0.1844 - acc: 0.9278 - val_loss: 1.8538 - val_acc: 0.5495\n",
            "Epoch 30/40\n",
            "8000/8000 [==============================] - 1s 71us/step - loss: 0.1499 - acc: 0.9420 - val_loss: 1.2083 - val_acc: 0.5960\n",
            "Epoch 31/40\n",
            "8000/8000 [==============================] - 1s 70us/step - loss: 0.1975 - acc: 0.9255 - val_loss: 1.3082 - val_acc: 0.5355\n",
            "Epoch 32/40\n",
            "8000/8000 [==============================] - 1s 70us/step - loss: 0.2012 - acc: 0.9241 - val_loss: 1.6381 - val_acc: 0.4990\n",
            "Epoch 33/40\n",
            "8000/8000 [==============================] - 1s 72us/step - loss: 0.1789 - acc: 0.9378 - val_loss: 1.6777 - val_acc: 0.6095\n",
            "Epoch 34/40\n",
            "8000/8000 [==============================] - 1s 72us/step - loss: 0.2196 - acc: 0.9089 - val_loss: 0.9991 - val_acc: 0.6750\n",
            "Epoch 35/40\n",
            "8000/8000 [==============================] - 1s 73us/step - loss: 0.2239 - acc: 0.9197 - val_loss: 1.1740 - val_acc: 0.6175\n",
            "Epoch 36/40\n",
            "8000/8000 [==============================] - 1s 71us/step - loss: 0.1811 - acc: 0.9340 - val_loss: 1.0144 - val_acc: 0.7215\n",
            "Epoch 37/40\n",
            "8000/8000 [==============================] - 1s 70us/step - loss: 0.1784 - acc: 0.9365 - val_loss: 1.1428 - val_acc: 0.6280\n",
            "Epoch 38/40\n",
            "8000/8000 [==============================] - 1s 68us/step - loss: 0.1623 - acc: 0.9341 - val_loss: 1.6021 - val_acc: 0.5845\n",
            "Epoch 39/40\n",
            "8000/8000 [==============================] - 1s 73us/step - loss: 0.1742 - acc: 0.9286 - val_loss: 1.2508 - val_acc: 0.6095\n",
            "Epoch 40/40\n",
            "8000/8000 [==============================] - 1s 68us/step - loss: 0.1616 - acc: 0.9384 - val_loss: 1.7498 - val_acc: 0.5670\n",
            "\n",
            "\n",
            "--------------UNSUPERVISED TRAIN--------------0\n",
            "Train on 189235 samples, validate on 47309 samples\n",
            "Epoch 1/1\n",
            "189235/189235 [==============================] - 20s 108us/step - loss: 0.8446 - acc: 0.0308 - val_loss: 1.5373 - val_acc: 0.0316\n",
            "--------------UNSUPERVISED TRAIN--------------1\n",
            "Train on 189235 samples, validate on 47309 samples\n",
            "Epoch 1/1\n",
            "189235/189235 [==============================] - 16s 83us/step - loss: 0.3969 - acc: 0.0281 - val_loss: 0.3253 - val_acc: 0.0234\n",
            "--------------ENCODER TRAIN--------------2\n",
            "Train on 8000 samples, validate on 2000 samples\n",
            "Epoch 1/40\n",
            "8000/8000 [==============================] - 1s 69us/step - loss: 0.2571 - acc: 0.9030 - val_loss: 1.9805 - val_acc: 0.5000\n",
            "Epoch 2/40\n",
            "8000/8000 [==============================] - 1s 70us/step - loss: 0.1644 - acc: 0.9386 - val_loss: 1.6782 - val_acc: 0.5000\n",
            "Epoch 3/40\n",
            "8000/8000 [==============================] - 1s 70us/step - loss: 0.1507 - acc: 0.9385 - val_loss: 1.5654 - val_acc: 0.5000\n",
            "Epoch 4/40\n",
            "8000/8000 [==============================] - 1s 72us/step - loss: 0.1124 - acc: 0.9599 - val_loss: 1.0136 - val_acc: 0.5000\n",
            "Epoch 5/40\n",
            "8000/8000 [==============================] - 1s 72us/step - loss: 0.1218 - acc: 0.9557 - val_loss: 1.4153 - val_acc: 0.5540\n",
            "Epoch 6/40\n",
            "8000/8000 [==============================] - 1s 70us/step - loss: 0.1375 - acc: 0.9576 - val_loss: 1.6389 - val_acc: 0.5005\n",
            "Epoch 7/40\n",
            "8000/8000 [==============================] - 1s 68us/step - loss: 0.1395 - acc: 0.9498 - val_loss: 2.1122 - val_acc: 0.5000\n",
            "Epoch 8/40\n",
            "8000/8000 [==============================] - 1s 68us/step - loss: 0.1792 - acc: 0.9433 - val_loss: 1.9150 - val_acc: 0.4995\n",
            "Epoch 9/40\n",
            "8000/8000 [==============================] - 1s 69us/step - loss: 0.1171 - acc: 0.9573 - val_loss: 2.0068 - val_acc: 0.5005\n",
            "Epoch 10/40\n",
            "8000/8000 [==============================] - 1s 72us/step - loss: 0.1411 - acc: 0.9479 - val_loss: 0.3649 - val_acc: 0.8720\n",
            "Epoch 11/40\n",
            "8000/8000 [==============================] - 1s 69us/step - loss: 0.1187 - acc: 0.9563 - val_loss: 0.1831 - val_acc: 0.9455\n",
            "Epoch 12/40\n",
            "8000/8000 [==============================] - 1s 68us/step - loss: 0.1160 - acc: 0.9566 - val_loss: 1.5614 - val_acc: 0.5230\n",
            "Epoch 13/40\n",
            "8000/8000 [==============================] - 1s 71us/step - loss: 0.1697 - acc: 0.9382 - val_loss: 0.9838 - val_acc: 0.6155\n",
            "Epoch 14/40\n",
            "8000/8000 [==============================] - 1s 71us/step - loss: 0.1259 - acc: 0.9492 - val_loss: 1.5398 - val_acc: 0.6065\n",
            "Epoch 15/40\n",
            "8000/8000 [==============================] - 1s 69us/step - loss: 0.1667 - acc: 0.9356 - val_loss: 0.6087 - val_acc: 0.6810\n",
            "Epoch 16/40\n",
            "8000/8000 [==============================] - 1s 68us/step - loss: 0.1432 - acc: 0.9460 - val_loss: 0.6969 - val_acc: 0.6755\n",
            "Epoch 17/40\n",
            "8000/8000 [==============================] - 1s 70us/step - loss: 0.1166 - acc: 0.9619 - val_loss: 0.5916 - val_acc: 0.6960\n",
            "Epoch 18/40\n",
            "8000/8000 [==============================] - 1s 68us/step - loss: 0.1053 - acc: 0.9613 - val_loss: 0.9159 - val_acc: 0.6380\n",
            "Epoch 19/40\n",
            "8000/8000 [==============================] - 1s 71us/step - loss: 0.0980 - acc: 0.9639 - val_loss: 0.9748 - val_acc: 0.7385\n",
            "Epoch 20/40\n",
            "8000/8000 [==============================] - 1s 68us/step - loss: 0.1020 - acc: 0.9635 - val_loss: 1.3217 - val_acc: 0.5885\n",
            "Epoch 21/40\n",
            "8000/8000 [==============================] - 1s 71us/step - loss: 0.1031 - acc: 0.9606 - val_loss: 0.3451 - val_acc: 0.8195\n",
            "Epoch 22/40\n",
            "8000/8000 [==============================] - 1s 69us/step - loss: 0.0974 - acc: 0.9661 - val_loss: 0.6130 - val_acc: 0.8245\n",
            "Epoch 23/40\n",
            "8000/8000 [==============================] - 1s 71us/step - loss: 0.1129 - acc: 0.9575 - val_loss: 0.7842 - val_acc: 0.7910\n",
            "Epoch 24/40\n",
            "8000/8000 [==============================] - 1s 71us/step - loss: 0.1137 - acc: 0.9595 - val_loss: 1.7951 - val_acc: 0.5000\n",
            "Epoch 25/40\n",
            "8000/8000 [==============================] - 1s 68us/step - loss: 0.1194 - acc: 0.9521 - val_loss: 1.1338 - val_acc: 0.5545\n",
            "Epoch 26/40\n",
            "8000/8000 [==============================] - 1s 69us/step - loss: 0.1289 - acc: 0.9579 - val_loss: 0.2477 - val_acc: 0.9010\n",
            "Epoch 27/40\n",
            "8000/8000 [==============================] - 1s 71us/step - loss: 0.0993 - acc: 0.9605 - val_loss: 0.4708 - val_acc: 0.8300\n",
            "Epoch 28/40\n",
            "8000/8000 [==============================] - 1s 69us/step - loss: 0.0841 - acc: 0.9713 - val_loss: 0.4434 - val_acc: 0.7640\n",
            "Epoch 29/40\n",
            "8000/8000 [==============================] - 1s 69us/step - loss: 0.1163 - acc: 0.9606 - val_loss: 0.5231 - val_acc: 0.7240\n",
            "Epoch 30/40\n",
            "8000/8000 [==============================] - 1s 68us/step - loss: 0.0885 - acc: 0.9663 - val_loss: 0.5824 - val_acc: 0.7380\n",
            "Epoch 31/40\n",
            "8000/8000 [==============================] - 1s 69us/step - loss: 0.0724 - acc: 0.9746 - val_loss: 1.6494 - val_acc: 0.6225\n",
            "Epoch 32/40\n",
            "8000/8000 [==============================] - 1s 70us/step - loss: 0.0843 - acc: 0.9675 - val_loss: 1.5518 - val_acc: 0.5790\n",
            "Epoch 33/40\n",
            "8000/8000 [==============================] - 1s 70us/step - loss: 0.0929 - acc: 0.9593 - val_loss: 1.3203 - val_acc: 0.7330\n",
            "Epoch 34/40\n",
            "8000/8000 [==============================] - 1s 70us/step - loss: 0.0686 - acc: 0.9765 - val_loss: 2.2204 - val_acc: 0.5495\n",
            "Epoch 35/40\n",
            "8000/8000 [==============================] - 1s 68us/step - loss: 0.0681 - acc: 0.9759 - val_loss: 0.7051 - val_acc: 0.7995\n",
            "Epoch 36/40\n",
            "8000/8000 [==============================] - 1s 71us/step - loss: 0.0934 - acc: 0.9646 - val_loss: 1.8069 - val_acc: 0.5005\n",
            "Epoch 37/40\n",
            "8000/8000 [==============================] - 1s 69us/step - loss: 0.0789 - acc: 0.9716 - val_loss: 1.3465 - val_acc: 0.5880\n",
            "Epoch 38/40\n",
            "8000/8000 [==============================] - 1s 67us/step - loss: 0.0674 - acc: 0.9749 - val_loss: 0.8616 - val_acc: 0.6835\n",
            "Epoch 39/40\n",
            "8000/8000 [==============================] - 1s 67us/step - loss: 0.0713 - acc: 0.9745 - val_loss: 1.3534 - val_acc: 0.5470\n",
            "Epoch 40/40\n",
            "8000/8000 [==============================] - 1s 68us/step - loss: 0.1041 - acc: 0.9639 - val_loss: 0.6766 - val_acc: 0.7560\n",
            "\n",
            "\n",
            "--------------UNSUPERVISED TRAIN--------------2\n",
            "Train on 189235 samples, validate on 47309 samples\n",
            "Epoch 1/1\n",
            "189235/189235 [==============================] - 16s 83us/step - loss: 0.3076 - acc: 0.0286 - val_loss: 0.3923 - val_acc: 0.0237\n",
            "--------------UNSUPERVISED TRAIN--------------3\n",
            "Train on 189235 samples, validate on 47309 samples\n",
            "Epoch 1/1\n",
            "189235/189235 [==============================] - 16s 83us/step - loss: 0.2353 - acc: 0.0307 - val_loss: 0.2208 - val_acc: 0.0248\n",
            "--------------ENCODER TRAIN--------------4\n",
            "Train on 8000 samples, validate on 2000 samples\n",
            "Epoch 1/40\n",
            "8000/8000 [==============================] - 1s 71us/step - loss: 0.3018 - acc: 0.9063 - val_loss: 1.2685 - val_acc: 0.5180\n",
            "Epoch 2/40\n",
            "8000/8000 [==============================] - 1s 69us/step - loss: 0.0881 - acc: 0.9673 - val_loss: 2.0581 - val_acc: 0.5000\n",
            "Epoch 3/40\n",
            "8000/8000 [==============================] - 1s 68us/step - loss: 0.0831 - acc: 0.9715 - val_loss: 1.4760 - val_acc: 0.4985\n",
            "Epoch 4/40\n",
            "8000/8000 [==============================] - 1s 69us/step - loss: 0.0877 - acc: 0.9698 - val_loss: 1.9794 - val_acc: 0.5415\n",
            "Epoch 5/40\n",
            "8000/8000 [==============================] - 1s 71us/step - loss: 0.0671 - acc: 0.9777 - val_loss: 2.0321 - val_acc: 0.5000\n",
            "Epoch 6/40\n",
            "8000/8000 [==============================] - 1s 72us/step - loss: 0.0772 - acc: 0.9719 - val_loss: 2.0771 - val_acc: 0.5000\n",
            "Epoch 7/40\n",
            "8000/8000 [==============================] - 1s 73us/step - loss: 0.1044 - acc: 0.9596 - val_loss: 2.2517 - val_acc: 0.5000\n",
            "Epoch 8/40\n",
            "8000/8000 [==============================] - 1s 72us/step - loss: 0.0982 - acc: 0.9620 - val_loss: 1.1743 - val_acc: 0.5765\n",
            "Epoch 9/40\n",
            "8000/8000 [==============================] - 1s 68us/step - loss: 0.0796 - acc: 0.9716 - val_loss: 1.0630 - val_acc: 0.6005\n",
            "Epoch 10/40\n",
            "8000/8000 [==============================] - 1s 69us/step - loss: 0.0672 - acc: 0.9752 - val_loss: 0.2137 - val_acc: 0.8905\n",
            "Epoch 11/40\n",
            "8000/8000 [==============================] - 1s 68us/step - loss: 0.0766 - acc: 0.9700 - val_loss: 0.9902 - val_acc: 0.5860\n",
            "Epoch 12/40\n",
            "8000/8000 [==============================] - 1s 72us/step - loss: 0.0587 - acc: 0.9788 - val_loss: 1.7521 - val_acc: 0.5000\n",
            "Epoch 13/40\n",
            "8000/8000 [==============================] - 1s 73us/step - loss: 0.0585 - acc: 0.9801 - val_loss: 1.6882 - val_acc: 0.6255\n",
            "Epoch 14/40\n",
            "8000/8000 [==============================] - 1s 73us/step - loss: 0.0610 - acc: 0.9767 - val_loss: 0.9432 - val_acc: 0.7490\n",
            "Epoch 15/40\n",
            "8000/8000 [==============================] - 1s 68us/step - loss: 0.0805 - acc: 0.9714 - val_loss: 2.2272 - val_acc: 0.5085\n",
            "Epoch 16/40\n",
            "8000/8000 [==============================] - 1s 69us/step - loss: 0.0607 - acc: 0.9796 - val_loss: 1.1817 - val_acc: 0.6715\n",
            "Epoch 17/40\n",
            "8000/8000 [==============================] - 1s 71us/step - loss: 0.0481 - acc: 0.9835 - val_loss: 2.1171 - val_acc: 0.5000\n",
            "Epoch 18/40\n",
            "8000/8000 [==============================] - 1s 69us/step - loss: 0.0519 - acc: 0.9834 - val_loss: 2.3361 - val_acc: 0.5000\n",
            "Epoch 19/40\n",
            "8000/8000 [==============================] - 1s 72us/step - loss: 0.0655 - acc: 0.9776 - val_loss: 1.3570 - val_acc: 0.5020\n",
            "Epoch 20/40\n",
            "8000/8000 [==============================] - 1s 69us/step - loss: 0.0800 - acc: 0.9671 - val_loss: 0.7192 - val_acc: 0.7135\n",
            "Epoch 21/40\n",
            "8000/8000 [==============================] - 1s 70us/step - loss: 0.0724 - acc: 0.9674 - val_loss: 1.7185 - val_acc: 0.5005\n",
            "Epoch 22/40\n",
            "8000/8000 [==============================] - 1s 69us/step - loss: 0.0557 - acc: 0.9784 - val_loss: 1.1791 - val_acc: 0.6955\n",
            "Epoch 23/40\n",
            "8000/8000 [==============================] - 1s 72us/step - loss: 0.0670 - acc: 0.9721 - val_loss: 0.6764 - val_acc: 0.7520\n",
            "Epoch 24/40\n",
            "8000/8000 [==============================] - 1s 70us/step - loss: 0.0572 - acc: 0.9805 - val_loss: 2.1545 - val_acc: 0.5015\n",
            "Epoch 25/40\n",
            "8000/8000 [==============================] - 1s 67us/step - loss: 0.0588 - acc: 0.9770 - val_loss: 1.4132 - val_acc: 0.4925\n",
            "Epoch 26/40\n",
            "8000/8000 [==============================] - 1s 69us/step - loss: 0.0573 - acc: 0.9795 - val_loss: 0.4467 - val_acc: 0.8300\n",
            "Epoch 27/40\n",
            "8000/8000 [==============================] - 1s 68us/step - loss: 0.0563 - acc: 0.9794 - val_loss: 0.2891 - val_acc: 0.8755\n",
            "Epoch 28/40\n",
            "8000/8000 [==============================] - 1s 69us/step - loss: 0.0586 - acc: 0.9805 - val_loss: 0.6484 - val_acc: 0.7500\n",
            "Epoch 29/40\n",
            "8000/8000 [==============================] - 1s 70us/step - loss: 0.0600 - acc: 0.9793 - val_loss: 1.6804 - val_acc: 0.5920\n",
            "Epoch 30/40\n",
            "8000/8000 [==============================] - 1s 68us/step - loss: 0.0564 - acc: 0.9807 - val_loss: 0.7611 - val_acc: 0.6105\n",
            "Epoch 31/40\n",
            "8000/8000 [==============================] - 1s 71us/step - loss: 0.0452 - acc: 0.9829 - val_loss: 1.2087 - val_acc: 0.6580\n",
            "Epoch 32/40\n",
            "8000/8000 [==============================] - 1s 69us/step - loss: 0.0568 - acc: 0.9819 - val_loss: 0.8497 - val_acc: 0.6815\n",
            "Epoch 33/40\n",
            "8000/8000 [==============================] - 1s 68us/step - loss: 0.0424 - acc: 0.9853 - val_loss: 1.5097 - val_acc: 0.5070\n",
            "Epoch 34/40\n",
            "8000/8000 [==============================] - 1s 70us/step - loss: 0.0565 - acc: 0.9809 - val_loss: 1.5680 - val_acc: 0.6115\n",
            "Epoch 35/40\n",
            "8000/8000 [==============================] - 1s 67us/step - loss: 0.0605 - acc: 0.9815 - val_loss: 1.7945 - val_acc: 0.5680\n",
            "Epoch 36/40\n",
            "8000/8000 [==============================] - 1s 72us/step - loss: 0.0527 - acc: 0.9798 - val_loss: 0.8955 - val_acc: 0.7465\n",
            "Epoch 37/40\n",
            "8000/8000 [==============================] - 1s 68us/step - loss: 0.0442 - acc: 0.9845 - val_loss: 1.6693 - val_acc: 0.5155\n",
            "Epoch 38/40\n",
            "8000/8000 [==============================] - 1s 68us/step - loss: 0.0332 - acc: 0.9882 - val_loss: 1.3422 - val_acc: 0.7455\n",
            "Epoch 39/40\n",
            "8000/8000 [==============================] - 1s 68us/step - loss: 0.0458 - acc: 0.9825 - val_loss: 0.1041 - val_acc: 0.9655\n",
            "Epoch 40/40\n",
            "8000/8000 [==============================] - 1s 70us/step - loss: 0.0528 - acc: 0.9805 - val_loss: 0.6225 - val_acc: 0.7960\n",
            "\n",
            "\n",
            "--------------UNSUPERVISED TRAIN--------------4\n",
            "Train on 189235 samples, validate on 47309 samples\n",
            "Epoch 1/1\n",
            "189235/189235 [==============================] - 16s 83us/step - loss: 0.2099 - acc: 0.0325 - val_loss: 0.4592 - val_acc: 0.0298\n"
          ],
          "name": "stdout"
        }
      ]
    },
    {
      "cell_type": "code",
      "metadata": {
        "id": "J-QMGcsx1MeK",
        "colab_type": "code",
        "colab": {}
      },
      "source": [
        "from save_model import save_model \n",
        "\n",
        "save = save_model()\n",
        "save.save(train)"
      ],
      "execution_count": 0,
      "outputs": []
    },
    {
      "cell_type": "code",
      "metadata": {
        "id": "9VWJ-TnV4gcr",
        "colab_type": "code",
        "colab": {
          "base_uri": "https://localhost:8080/",
          "height": 51
        },
        "outputId": "0c1f445a-cb46-4ba1-9076-1a59b9f47c20"
      },
      "source": [
        "from classification import predict \n",
        "predict = predict(anchor = X_test_supervised, test=X_test_supervised, model_location=\"/content/encoder_injected_model (1).h5\")\n",
        "values = predict.compute_distance()\n"
      ],
      "execution_count": 9,
      "outputs": [
        {
          "output_type": "stream",
          "text": [
            "/usr/local/lib/python3.6/dist-packages/keras/engine/saving.py:310: UserWarning: No training configuration found in save file: the model was *not* compiled. Compile it manually.\n",
            "  warnings.warn('No training configuration found in save file: '\n"
          ],
          "name": "stderr"
        }
      ]
    },
    {
      "cell_type": "code",
      "metadata": {
        "id": "2Mtxo14l9NYF",
        "colab_type": "code",
        "colab": {
          "base_uri": "https://localhost:8080/",
          "height": 296
        },
        "outputId": "87b92f2b-26e5-4217-f0e5-3fd640aed89b"
      },
      "source": [
        "%matplotlib inline\n",
        "\n",
        "plt.plot(values)\n",
        "plt.xlabel(\"Number Of Samples\")\n",
        "plt.ylabel(\"Euclidean Distance\")"
      ],
      "execution_count": 10,
      "outputs": [
        {
          "output_type": "execute_result",
          "data": {
            "text/plain": [
              "Text(0, 0.5, 'Euclidean Distance')"
            ]
          },
          "metadata": {
            "tags": []
          },
          "execution_count": 10
        },
        {
          "output_type": "display_data",
          "data": {
            "image/png": "[encoded data removed]",
            "text/plain": [
              "<Figure size 432x288 with 1 Axes>"
            ]
          },
          "metadata": {
            "tags": []
          }
        }
      ]
    },
    {
      "cell_type": "code",
      "metadata": {
        "id": "IOgRlleb-BDI",
        "colab_type": "code",
        "colab": {
          "base_uri": "https://localhost:8080/",
          "height": 34
        },
        "outputId": "492cc3d4-d216-4d16-8d99-d3836f29d850"
      },
      "source": [
        "print(predict.max_index(5))"
      ],
      "execution_count": 11,
      "outputs": [
        {
          "output_type": "stream",
          "text": [
            "[1127, 115, 192, 214, 1561]\n"
          ],
          "name": "stdout"
        }
      ]
    },
    {
      "cell_type": "code",
      "metadata": {
        "id": "bTqo9tRWBJ0W",
        "colab_type": "code",
        "colab": {
          "base_uri": "https://localhost:8080/",
          "height": 391
        },
        "outputId": "1b013447-eabb-42f5-e14f-1c5a74a4155a"
      },
      "source": [
        "%matplotlib inline\n",
        "fig = plt.figure(figsize=(10, 6))\n",
        "plt.imshow(X_train_supervised[predict.max_index(1)[0],:,0,:], aspect='auto')\n",
        "plt.colorbar()"
      ],
      "execution_count": 12,
      "outputs": [
        {
          "output_type": "execute_result",
          "data": {
            "text/plain": [
              "<matplotlib.colorbar.Colorbar at 0x7f03412a0c50>"
            ]
          },
          "metadata": {
            "tags": []
          },
          "execution_count": 12
        },
        {
          "output_type": "display_data",
          "data": {
            "image/png": "[encoded data removed]",
            "text/plain": [
              "<Figure size 720x432 with 2 Axes>"
            ]
          },
          "metadata": {
            "tags": []
          }
        }
      ]
    }
  ]
}