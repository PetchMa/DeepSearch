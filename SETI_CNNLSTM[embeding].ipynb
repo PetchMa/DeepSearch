{
  "nbformat": 4,
  "nbformat_minor": 0,
  "metadata": {
    "colab": {
      "name": "SETI- CNNLSTM[embeding]",
      "provenance": [],
      "collapsed_sections": [],
      "toc_visible": true,
      "machine_shape": "hm",
      "include_colab_link": true
    },
    "kernelspec": {
      "name": "python3",
      "display_name": "Python 3"
    },
    "accelerator": "GPU"
  },
  "cells": [
    {
      "cell_type": "markdown",
      "metadata": {
        "id": "view-in-github",
        "colab_type": "text"
      },
      "source": [
        "<a href=\"https://colab.research.google.com/github/PetchMa/DeepSearch/blob/master/SETI_CNNLSTM%5Bembeding%5D.ipynb\" target=\"_parent\"><img src=\"https://colab.research.google.com/assets/colab-badge.svg\" alt=\"Open In Colab\"/></a>"
      ]
    },
    {
      "cell_type": "code",
      "metadata": {
        "id": "HJ_s8GXJMNjG",
        "colab_type": "code",
        "outputId": "e24ccc6f-9198-4bb9-e241-0c9b95df606c",
        "colab": {
          "base_uri": "https://localhost:8080/",
          "height": 34
        }
      },
      "source": [
        "from google.colab import drive\n",
        "drive.mount('/content/drive/')"
      ],
      "execution_count": 1,
      "outputs": [
        {
          "output_type": "stream",
          "text": [
            "Drive already mounted at /content/drive/; to attempt to forcibly remount, call drive.mount(\"/content/drive/\", force_remount=True).\n"
          ],
          "name": "stdout"
        }
      ]
    },
    {
      "cell_type": "code",
      "metadata": {
        "id": "zPq_lXA_MRTI",
        "colab_type": "code",
        "outputId": "8c8522a6-efb1-4c5b-b2af-a9147e7a3977",
        "colab": {
          "base_uri": "https://localhost:8080/",
          "height": 442
        }
      },
      "source": [
        "!apt install ffmpeg\n",
        "!wget https://bin.equinox.io/c/4VmDzA7iaHb/ngrok-stable-linux-amd64.zip\n",
        "!unzip ngrok-stable-linux-amd64.zip\n",
        "!pip install pydub\n",
        "LOG_DIR = './log'\n",
        "get_ipython().system_raw(\n",
        "    'tensorboard --logdir {} --host 0.0.0.0 --port 6006 &'\n",
        "    .format(LOG_DIR)\n",
        ")\n",
        "!pip install h5py\n",
        "# !unzip '/content/drive/My Drive/Deeplearning/Information/train.zip' -d '/content/drive/My Drive/Deeplearning/Information/Train_wav'"
      ],
      "execution_count": 2,
      "outputs": [
        {
          "output_type": "stream",
          "text": [
            "Reading package lists... Done\n",
            "Building dependency tree       \n",
            "Reading state information... Done\n",
            "ffmpeg is already the newest version (7:3.4.6-0ubuntu0.18.04.1).\n",
            "The following package was automatically installed and is no longer required:\n",
            "  libnvidia-common-430\n",
            "Use 'apt autoremove' to remove it.\n",
            "0 upgraded, 0 newly installed, 0 to remove and 7 not upgraded.\n",
            "--2019-12-30 15:43:47--  https://bin.equinox.io/c/4VmDzA7iaHb/ngrok-stable-linux-amd64.zip\n",
            "Resolving bin.equinox.io (bin.equinox.io)... 34.237.57.234, 34.196.154.11, 3.234.122.223, ...\n",
            "Connecting to bin.equinox.io (bin.equinox.io)|34.237.57.234|:443... connected.\n",
            "HTTP request sent, awaiting response... 200 OK\n",
            "Length: 13773305 (13M) [application/octet-stream]\n",
            "Saving to: ‘ngrok-stable-linux-amd64.zip.1’\n",
            "\n",
            "ngrok-stable-linux- 100%[===================>]  13.13M  53.5MB/s    in 0.2s    \n",
            "\n",
            "2019-12-30 15:43:48 (53.5 MB/s) - ‘ngrok-stable-linux-amd64.zip.1’ saved [13773305/13773305]\n",
            "\n",
            "Archive:  ngrok-stable-linux-amd64.zip\n",
            "replace ngrok? [y]es, [n]o, [A]ll, [N]one, [r]ename: n\n",
            "Requirement already satisfied: pydub in /usr/local/lib/python3.6/dist-packages (0.23.1)\n",
            "Requirement already satisfied: h5py in /usr/local/lib/python3.6/dist-packages (2.8.0)\n",
            "Requirement already satisfied: numpy>=1.7 in /usr/local/lib/python3.6/dist-packages (from h5py) (1.17.4)\n",
            "Requirement already satisfied: six in /usr/local/lib/python3.6/dist-packages (from h5py) (1.12.0)\n"
          ],
          "name": "stdout"
        }
      ]
    },
    {
      "cell_type": "code",
      "metadata": {
        "id": "votM_3Qw_jFc",
        "colab_type": "code",
        "outputId": "0684d242-c76d-4684-be84-81d4da0c181a",
        "colab": {
          "base_uri": "https://localhost:8080/",
          "height": 80
        }
      },
      "source": [
        "import tensorflow as tf \n",
        "from keras.models import Sequential \n",
        "from keras.layers import Dense, Dropout, LSTM, CuDNNLSTM, ConvLSTM2D\n",
        "from keras.layers.core import Activation, Flatten\n",
        "import matplotlib.pyplot as plt\n",
        "from keras.optimizers import SGD,RMSprop,adam\n",
        "from keras.models import load_model\n",
        "from sklearn.utils import shuffle\n",
        "from keras.losses import binary_crossentropy\n",
        "from sklearn.model_selection import train_test_split\n",
        "from keras.utils import np_utils\n",
        "import os, os.path\n",
        "import numpy as np\n",
        "import tempfile\n",
        "import pydub\n",
        "import scipy.io.wavfile\n",
        "from keras.layers import Reshape\n",
        "from keras import losses\n",
        "from keras.layers.advanced_activations import LeakyReLU\n",
        "from pydub import AudioSegment\n",
        "from scipy.io import wavfile\n",
        "from keras.layers import Input, LSTM, MaxPooling1D, Conv1D\n",
        "from keras.models import Model\n",
        "from keras import backend as K\n",
        "from keras.layers.convolutional import Convolution1D\n",
        "from keras.layers import  Conv2D, MaxPool3D, MaxPooling3D, TimeDistributed, Embedding \n",
        "from keras.layers import BatchNormalization\n",
        "from keras.callbacks import TensorBoard\n",
        "from keras.callbacks import EarlyStopping, ModelCheckpoint\n",
        "from sklearn.metrics import confusion_matrix"
      ],
      "execution_count": 3,
      "outputs": [
        {
          "output_type": "display_data",
          "data": {
            "text/html": [
              "<p style=\"color: red;\">\n",
              "The default version of TensorFlow in Colab will soon switch to TensorFlow 2.x.<br>\n",
              "We recommend you <a href=\"https://www.tensorflow.org/guide/migrate\" target=\"_blank\">upgrade</a> now \n",
              "or ensure your notebook will continue to use TensorFlow 1.x via the <code>%tensorflow_version 1.x</code> magic:\n",
              "<a href=\"https://colab.research.google.com/notebooks/tensorflow_version.ipynb\" target=\"_blank\">more info</a>.</p>\n"
            ],
            "text/plain": [
              "<IPython.core.display.HTML object>"
            ]
          },
          "metadata": {
            "tags": []
          }
        },
        {
          "output_type": "stream",
          "text": [
            "Using TensorFlow backend.\n"
          ],
          "name": "stderr"
        }
      ]
    },
    {
      "cell_type": "code",
      "metadata": {
        "id": "H3XFpHBxMLHu",
        "colab_type": "code",
        "colab": {}
      },
      "source": [
        "# https://keras.io/examples/imdb_cnn_lstm/\n",
        "def read_mp3(file_path, rate,  as_float = False):\n",
        "    path, ext = os.path.splitext(file_path)\n",
        "    assert ext=='.wav'\n",
        "    mp3 = pydub.AudioSegment.from_file(file_path, format=\"wav\")\n",
        "    mp3 = mp3.set_frame_rate(rate)\n",
        "    _, path = tempfile.mkstemp()\n",
        "    mp3.export(path, format=\"wav\")\n",
        "    rate, data = scipy.io.wavfile.read(path)\n",
        "    os.remove(path)\n",
        "    if as_float:\n",
        "        data = data/(2**15)\n",
        "    return data"
      ],
      "execution_count": 0,
      "outputs": []
    },
    {
      "cell_type": "code",
      "metadata": {
        "id": "z3uz7lYRND7O",
        "colab_type": "code",
        "outputId": "809d8ffe-cbec-4644-e6ab-7c65862439e9",
        "colab": {
          "base_uri": "https://localhost:8080/",
          "height": 34
        }
      },
      "source": [
        "file_name = '/content/drive/My Drive/data/True_Train_wav'\n",
        "# Searches for all files\n",
        "path, dirs, files = next(os.walk(file_name))\n",
        "# Finds the number of files. \n",
        "file_count = len(files)\n",
        "print('total num of files: ' + str(file_count))"
      ],
      "execution_count": 5,
      "outputs": [
        {
          "output_type": "stream",
          "text": [
            "total num of files: 1196\n"
          ],
          "name": "stdout"
        }
      ]
    },
    {
      "cell_type": "code",
      "metadata": {
        "id": "bz8ZOHshNhBl",
        "colab_type": "code",
        "outputId": "e9d8c999-0911-49d0-e71d-e0feb1444a7a",
        "colab": {
          "base_uri": "https://localhost:8080/",
          "height": 255
        }
      },
      "source": [
        "folder = '/content/drive/My Drive/data/True_Train_wav'\n",
        "rate = 441\n",
        "time_seconds = 30\n",
        "length_rate = rate*time_seconds\n",
        "file_count = file_count-1\n",
        "print(file_count)\n",
        "dataset = np.zeros((file_count, length_rate,2), dtype=float)\n",
        "for i in range(0,file_count):\n",
        "  if i%100==0:\n",
        "    print(str(i)+\" files have been loaded\")\n",
        "  name = folder+'/'+str(i+1)+'.wav'\n",
        "  dataset[i][:][:] = read_mp3(name, rate, True)\n",
        "print(\"Tensor shape: \"+ str(dataset.shape))\n"
      ],
      "execution_count": 6,
      "outputs": [
        {
          "output_type": "stream",
          "text": [
            "1195\n",
            "0 files have been loaded\n",
            "100 files have been loaded\n",
            "200 files have been loaded\n",
            "300 files have been loaded\n",
            "400 files have been loaded\n",
            "500 files have been loaded\n",
            "600 files have been loaded\n",
            "700 files have been loaded\n",
            "800 files have been loaded\n",
            "900 files have been loaded\n",
            "1000 files have been loaded\n",
            "1100 files have been loaded\n",
            "Tensor shape: (1195, 13230, 2)\n"
          ],
          "name": "stdout"
        }
      ]
    },
    {
      "cell_type": "code",
      "metadata": {
        "id": "Fb4vjZqkqX03",
        "colab_type": "code",
        "colab": {}
      },
      "source": [
        "# dataset = np.concatenate((dataset, dataset+np.random.rand(dataset.shape[0],dataset.shape[1],dataset.shape[2])*0.1))\n",
        "# print(dataset.shape)"
      ],
      "execution_count": 0,
      "outputs": []
    },
    {
      "cell_type": "code",
      "metadata": {
        "id": "33Qm_WdGFPFR",
        "colab_type": "code",
        "outputId": "c00d1266-05e8-4bc6-8e11-99b479cbd2a2",
        "colab": {
          "base_uri": "https://localhost:8080/",
          "height": 272
        }
      },
      "source": [
        "folder = '/content/drive/My Drive/data/False_Train_wav'\n",
        "file_name = '/content/drive/My Drive/data/False_Train_wav'\n",
        "# Searches for all files\n",
        "path, dirs, files = next(os.walk(file_name))\n",
        "# Finds the number of files. \n",
        "file_count = len(files)\n",
        "print('total num of files:' + str(file_count))\n",
        "file_count = file_count -1\n",
        "fake = np.zeros((file_count, length_rate ,2), dtype=float)\n",
        "for i in range(0,file_count):\n",
        "  if i%100==0:\n",
        "    print(str(i)+\" files have been loaded\")\n",
        "  fake[i][:][:] = read_mp3(folder+'/'+str(i+1)+'.wav', rate, True)\n",
        "fake_add = np.random.rand(400, length_rate,2)\n",
        "# fake = np.concatenate((fake, fake+np.random.rand(fake.shape[0],fake.shape[1],fake.shape[2])*0.1))\n",
        "fake = np.concatenate((fake, fake_add))\n",
        "print(\"Tensor shape: \"+ str(fake.shape))"
      ],
      "execution_count": 7,
      "outputs": [
        {
          "output_type": "stream",
          "text": [
            "total num of files:1244\n",
            "0 files have been loaded\n",
            "100 files have been loaded\n",
            "200 files have been loaded\n",
            "300 files have been loaded\n",
            "400 files have been loaded\n",
            "500 files have been loaded\n",
            "600 files have been loaded\n",
            "700 files have been loaded\n",
            "800 files have been loaded\n",
            "900 files have been loaded\n",
            "1000 files have been loaded\n",
            "1100 files have been loaded\n",
            "1200 files have been loaded\n",
            "Tensor shape: (1643, 13230, 2)\n"
          ],
          "name": "stdout"
        }
      ]
    },
    {
      "cell_type": "code",
      "metadata": {
        "id": "KpVel_VkGPU3",
        "colab_type": "code",
        "outputId": "ddc9b4be-4bbe-4d2f-92be-b9f63611d061",
        "colab": {
          "base_uri": "https://localhost:8080/",
          "height": 85
        }
      },
      "source": [
        "labeltrue = np.concatenate((np.ones((dataset.shape[0],1),dtype='int64'),np.zeros((dataset.shape[0],1),dtype='int64')), axis=1)\n",
        "labelfalse = np.concatenate((np.zeros((fake.shape[0],1),dtype='int64'),np.ones((fake.shape[0],1),dtype='int64')), axis=1)\n",
        "label = np.concatenate((labeltrue, labelfalse))\n",
        "dataset = np.concatenate((dataset, fake))\n",
        "print(label.shape)\n",
        "print(dataset.shape)\n",
        "print(label[398,:])\n",
        "print(label[2200,:])"
      ],
      "execution_count": 8,
      "outputs": [
        {
          "output_type": "stream",
          "text": [
            "(2838, 2)\n",
            "(2838, 13230, 2)\n",
            "[1 0]\n",
            "[0 1]\n"
          ],
          "name": "stdout"
        }
      ]
    },
    {
      "cell_type": "code",
      "metadata": {
        "id": "9qmwEy3LGkos",
        "colab_type": "code",
        "outputId": "ba7b339a-b9a9-42df-a934-b93ae74eeb8c",
        "colab": {
          "base_uri": "https://localhost:8080/",
          "height": 34
        }
      },
      "source": [
        "dataset,label = shuffle(dataset,label, random_state=3)\n",
        "X_train, X_test, y_train, y_test = train_test_split(dataset, label, test_size=0.2, random_state=2)\n",
        "print(X_train.shape)"
      ],
      "execution_count": 9,
      "outputs": [
        {
          "output_type": "stream",
          "text": [
            "(2270, 13230, 2)\n"
          ],
          "name": "stdout"
        }
      ]
    },
    {
      "cell_type": "code",
      "metadata": {
        "id": "hBQ_LZGHUQkx",
        "colab_type": "code",
        "outputId": "2a422fff-803f-4210-9ff1-2a6c347d04cf",
        "colab": {
          "base_uri": "https://localhost:8080/",
          "height": 1000
        }
      },
      "source": [
        "# Data to plot\n",
        "labels = 'Spanish', 'English', 'Russian', 'Korean','Music', 'Hindi', 'Ojibwa'\n",
        "sizes = [18/60, 57/60+1, 2+27/60, 1+49/60, 1+18/60,52/60,13/60]\n",
        "colors = ['gold', 'yellowgreen', 'lightcoral', 'lightskyblue', 'pink', 'blue','lightgrey']\n",
        "\n",
        "\n",
        "# Plot\n",
        "plt.title('Information True | 8.9 hours', fontdict=None, loc='center', pad=None)\n",
        "plt.pie(sizes, explode=None, labels=labels, colors=colors,\n",
        "autopct='%1.1f%%', shadow=True, startangle=140)\n",
        "\n",
        "plt.axis('equal')\n",
        "plt.show()\n",
        "\n",
        "# ------------------\n",
        "# Data to plot\n",
        "labels = 'Static', 'Random Sounds', 'Waves', 'Helicopter Blades','Fire Crackle', 'Rain'\n",
        "sizes = [3, 21/60, 1, 2,2,2]\n",
        "colors = ['gold', 'yellowgreen', 'lightcoral', 'lightskyblue', 'pink', 'blue','lightgrey']\n",
        "\n",
        "\n",
        "# Plot\n",
        "plt.title('Noise | 10.35 Hours', fontdict=None, loc='center', pad=None)\n",
        "plt.pie(sizes, explode=None, labels=labels, colors=colors,\n",
        "autopct='%1.1f%%', shadow=True, startangle=140)\n",
        "\n",
        "plt.axis('equal')\n",
        "plt.show()\n",
        "# ------------------\n",
        "# Data to plot\n",
        "labels = 'Spanish', 'English', 'Russian', 'Korean','Music', 'Hindi', 'Ojibwa','Static', 'Random Sounds', 'Waves', 'Helicopter Blades','Fire Crackle', 'Rain'\n",
        "sizes = [18/60, 57/60+1, 2+27/60, 1+49/60, 1+18/60,52/60,13/60,3, 21/60, 1, 2,2,2]\n",
        "colors = ['gold', 'yellowgreen', 'lightcoral', 'lightskyblue', 'pink', 'blue','lightgrey']\n",
        "\n",
        "\n",
        "# Plot\n",
        "plt.title('Total Train Dataset | 19.25 Hours', fontdict=None, loc='center', pad=None)\n",
        "plt.pie(sizes, explode=None, labels=labels, colors=None,\n",
        "autopct='%1.1f%%', shadow=True, startangle=140)\n",
        "\n",
        "plt.axis('equal')\n",
        "plt.show()\n",
        "\n",
        "# ------------------\n",
        "# Data to plot\n",
        "labels = 'Dolphin', 'Whale', 'SETI-TALKS'\n",
        "sizes = [1/6, 30/60, 1+22/60]\n",
        "colors = ['gold', 'yellowgreen', 'lightcoral', 'lightskyblue', 'pink', 'blue','lightgrey']\n",
        "\n",
        "\n",
        "# Plot\n",
        "plt.title('Test True | 2 hours', fontdict=None, loc='center', pad=None)\n",
        "plt.pie(sizes, explode=None, labels=labels, colors=colors,\n",
        "autopct='%1.1f%%', shadow=True, startangle=140)\n",
        "\n",
        "plt.axis('equal')\n",
        "plt.show()\n",
        "# ------------------\n",
        "\n",
        "# Data to plot\n",
        "labels = 'Dolphin', 'Whale', 'SETI-TALKS', 'White Noise'\n",
        "sizes = [1/6, 30/60, 1+22/60,1]\n",
        "colors = ['gold', 'yellowgreen', 'lightcoral', 'lightskyblue']\n",
        "\n",
        "\n",
        "# Plot\n",
        "plt.title('Total Test Dataset | 2 hours', fontdict=None, loc='center', pad=None)\n",
        "plt.pie(sizes, explode=None, labels=labels, colors=colors,\n",
        "autopct='%1.1f%%', shadow=True, startangle=140)\n",
        "\n",
        "plt.axis('equal')\n",
        "plt.show()"
      ],
      "execution_count": 10,
      "outputs": [
        {
          "output_type": "display_data",
          "data": {
            "image/png": "[encoded data removed]",
            "text/plain": [
              "<Figure size 432x288 with 1 Axes>"
            ]
          },
          "metadata": {
            "tags": []
          }
        },
        {
          "output_type": "display_data",
          "data": {
            "image/png": "[encoded data removed]",
            "text/plain": [
              "<Figure size 432x288 with 1 Axes>"
            ]
          },
          "metadata": {
            "tags": []
          }
        },
        {
          "output_type": "display_data",
          "data": {
            "image/png": "[encoded data removed]",
            "text/plain": [
              "<Figure size 432x288 with 1 Axes>"
            ]
          },
          "metadata": {
            "tags": []
          }
        },
        {
          "output_type": "display_data",
          "data": {
            "image/png": "[encoded data removed]",
            "text/plain": [
              "<Figure size 432x288 with 1 Axes>"
            ]
          },
          "metadata": {
            "tags": []
          }
        },
        {
          "output_type": "display_data",
          "data": {
            "image/png": "[encoded data removed]",
            "text/plain": [
              "<Figure size 432x288 with 1 Axes>"
            ]
          },
          "metadata": {
            "tags": []
          }
        }
      ]
    },
    {
      "cell_type": "code",
      "metadata": {
        "id": "tleRS_iZjUc6",
        "colab_type": "code",
        "colab": {
          "base_uri": "https://localhost:8080/",
          "height": 71
        },
        "outputId": "4b39c691-aa9c-46f1-8b11-35faf3d67b1f"
      },
      "source": [
        "  LR = LeakyReLU(0.3)\n",
        "  LR.__name__ = 'relu'"
      ],
      "execution_count": 11,
      "outputs": [
        {
          "output_type": "stream",
          "text": [
            "WARNING:tensorflow:From /usr/local/lib/python3.6/dist-packages/keras/backend/tensorflow_backend.py:66: The name tf.get_default_graph is deprecated. Please use tf.compat.v1.get_default_graph instead.\n",
            "\n"
          ],
          "name": "stdout"
        }
      ]
    },
    {
      "cell_type": "code",
      "metadata": {
        "id": "4Sd3HkpZS7QZ",
        "colab_type": "code",
        "outputId": "a0022bbe-c98f-4c77-d8b7-9e4aa9f41d57",
        "colab": {
          "base_uri": "https://localhost:8080/",
          "height": 1000
        }
      },
      "source": [
        "# https://stackoverflow.com/questions/46516774/drawing-a-diagram-to-illustrate-this-cnnlstm-network\n",
        "input_shape = dataset[0].shape\n",
        "kernel = 100\n",
        "epoch = 25\n",
        "learning_rate = 0.1\n",
        "\n",
        "model = Sequential()\n",
        "\n",
        "model.add(Convolution1D(32, kernel_size = kernel, strides=1, padding='same', input_shape=input_shape ))\n",
        "model.add(LR)\n",
        "model.add(MaxPooling1D(pool_size=(2)))\n",
        "model.add(Dropout(0.5))\n",
        "\n",
        "model.add(Convolution1D(64, kernel_size = kernel, strides=1, padding='same'))\n",
        "model.add(LR)\n",
        "model.add(MaxPooling1D(pool_size=(2)))\n",
        "model.add(Dropout(0.5))\n",
        "\n",
        "model.add(Convolution1D(128, kernel_size = kernel, strides=1, padding='same'))\n",
        "model.add(LR)\n",
        "model.add(MaxPooling1D(pool_size=(2)))\n",
        "model.add(Dropout(0.5))\n",
        "\n",
        "model.add(Convolution1D(256, kernel_size = kernel, strides=1, padding='same'))\n",
        "model.add(LR)\n",
        "model.add(MaxPooling1D(pool_size=(2)))\n",
        "model.add(Dropout(0.5))\n",
        "\n",
        "model.add(Convolution1D(512, kernel_size = kernel, strides=1, padding='same'))\n",
        "model.add(LR)\n",
        "model.add(MaxPooling1D(pool_size=(2)))\n",
        "model.add(Dropout(0.5))\n",
        "\n",
        "# model.add(TimeDistributed(Flatten()))\n",
        "# model.add(Flatten())\n",
        "# model.add(Embedding(10000, 64))\n",
        "# model.add(Dense(30))\n",
        "\n",
        "\n",
        "\n",
        "model.add(CuDNNLSTM(512, return_sequences=True))\n",
        "model.add(Dropout(0.5))\n",
        "model.add(CuDNNLSTM(512, return_sequences=True))\n",
        "model.add(Dropout(0.5))\n",
        "model.add(CuDNNLSTM(256, return_sequences=True))\n",
        "model.add(Dropout(0.5))\n",
        "model.add(CuDNNLSTM(256))\n",
        "model.add(Dropout(0.5))\n",
        "\n",
        "\n",
        "model.add(Dense(13230, activation=LR))\n",
        "model.add(Dropout(0.5))\n",
        "model.add(Dense(64, activation=LR))\n",
        "model.add(Dropout(0.5))\n",
        "model.add(Dense(2 , activation='sigmoid'))\n",
        "\n",
        "model.summary()\n",
        "print(learning_rate/epoch)\n",
        "sgd= SGD(lr=learning_rate, decay = learning_rate/epoch, momentum=0.0, nesterov=False)\n",
        "\n",
        "model.compile(loss='binary_crossentropy', optimizer=sgd, metrics=[\"accuracy\"])"
      ],
      "execution_count": 17,
      "outputs": [
        {
          "output_type": "stream",
          "text": [
            "Model: \"sequential_4\"\n",
            "_________________________________________________________________\n",
            "Layer (type)                 Output Shape              Param #   \n",
            "=================================================================\n",
            "conv1d_16 (Conv1D)           (None, 13230, 32)         6432      \n",
            "_________________________________________________________________\n",
            "leaky_re_lu_1 (LeakyReLU)    multiple                  0         \n",
            "_________________________________________________________________\n",
            "max_pooling1d_16 (MaxPooling (None, 6615, 32)          0         \n",
            "_________________________________________________________________\n",
            "dropout_34 (Dropout)         (None, 6615, 32)          0         \n",
            "_________________________________________________________________\n",
            "conv1d_17 (Conv1D)           (None, 6615, 64)          204864    \n",
            "_________________________________________________________________\n",
            "max_pooling1d_17 (MaxPooling (None, 3307, 64)          0         \n",
            "_________________________________________________________________\n",
            "dropout_35 (Dropout)         (None, 3307, 64)          0         \n",
            "_________________________________________________________________\n",
            "conv1d_18 (Conv1D)           (None, 3307, 128)         819328    \n",
            "_________________________________________________________________\n",
            "max_pooling1d_18 (MaxPooling (None, 1653, 128)         0         \n",
            "_________________________________________________________________\n",
            "dropout_36 (Dropout)         (None, 1653, 128)         0         \n",
            "_________________________________________________________________\n",
            "conv1d_19 (Conv1D)           (None, 1653, 256)         3277056   \n",
            "_________________________________________________________________\n",
            "max_pooling1d_19 (MaxPooling (None, 826, 256)          0         \n",
            "_________________________________________________________________\n",
            "dropout_37 (Dropout)         (None, 826, 256)          0         \n",
            "_________________________________________________________________\n",
            "conv1d_20 (Conv1D)           (None, 826, 512)          13107712  \n",
            "_________________________________________________________________\n",
            "max_pooling1d_20 (MaxPooling (None, 413, 512)          0         \n",
            "_________________________________________________________________\n",
            "dropout_38 (Dropout)         (None, 413, 512)          0         \n",
            "_________________________________________________________________\n",
            "cu_dnnlstm_13 (CuDNNLSTM)    (None, 413, 512)          2101248   \n",
            "_________________________________________________________________\n",
            "dropout_39 (Dropout)         (None, 413, 512)          0         \n",
            "_________________________________________________________________\n",
            "cu_dnnlstm_14 (CuDNNLSTM)    (None, 413, 512)          2101248   \n",
            "_________________________________________________________________\n",
            "dropout_40 (Dropout)         (None, 413, 512)          0         \n",
            "_________________________________________________________________\n",
            "cu_dnnlstm_15 (CuDNNLSTM)    (None, 413, 256)          788480    \n",
            "_________________________________________________________________\n",
            "dropout_41 (Dropout)         (None, 413, 256)          0         \n",
            "_________________________________________________________________\n",
            "cu_dnnlstm_16 (CuDNNLSTM)    (None, 256)               526336    \n",
            "_________________________________________________________________\n",
            "dropout_42 (Dropout)         (None, 256)               0         \n",
            "_________________________________________________________________\n",
            "dense_10 (Dense)             (None, 13230)             3400110   \n",
            "_________________________________________________________________\n",
            "dropout_43 (Dropout)         (None, 13230)             0         \n",
            "_________________________________________________________________\n",
            "dense_11 (Dense)             (None, 64)                846784    \n",
            "_________________________________________________________________\n",
            "dropout_44 (Dropout)         (None, 64)                0         \n",
            "_________________________________________________________________\n",
            "dense_12 (Dense)             (None, 2)                 130       \n",
            "=================================================================\n",
            "Total params: 27,179,728\n",
            "Trainable params: 27,179,728\n",
            "Non-trainable params: 0\n",
            "_________________________________________________________________\n",
            "0.004\n"
          ],
          "name": "stdout"
        },
        {
          "output_type": "stream",
          "text": [
            "/usr/local/lib/python3.6/dist-packages/keras/activations.py:235: UserWarning: Do not pass a layer instance (such as LeakyReLU) as the activation argument of another layer. Instead, advanced activation layers should be used just like any other layer in a model.\n",
            "  identifier=identifier.__class__.__name__))\n"
          ],
          "name": "stderr"
        }
      ]
    },
    {
      "cell_type": "code",
      "metadata": {
        "id": "0gQ7QMQfgtYy",
        "colab_type": "code",
        "outputId": "632e457f-9a61-40b2-c741-07e27dc6751c",
        "colab": {
          "base_uri": "https://localhost:8080/",
          "height": 884
        }
      },
      "source": [
        "batch_size =1\n",
        "# es_callback = EarlyStopping(monitor='val_loss', mode='min')\n",
        "mc = ModelCheckpoint('model_8.h5', monitor='val_loss', mode='min', save_best_only=True)\n",
        "history = model.fit(X_train, y_train,  batch_size=batch_size, epochs=25, validation_data=(X_test, y_test), callbacks=[mc])\n",
        "\n",
        "from keras.models import load_model\n",
        "# saved_model = load_model('best_model.h5')"
      ],
      "execution_count": 18,
      "outputs": [
        {
          "output_type": "stream",
          "text": [
            "Train on 2270 samples, validate on 568 samples\n",
            "Epoch 1/25\n",
            "2270/2270 [==============================] - 336s 148ms/step - loss: 0.5915 - acc: 0.6328 - val_loss: 0.6031 - val_acc: 0.5757\n",
            "Epoch 2/25\n",
            "2270/2270 [==============================] - 339s 149ms/step - loss: 0.5628 - acc: 0.6581 - val_loss: 0.4652 - val_acc: 0.7923\n",
            "Epoch 3/25\n",
            "2270/2270 [==============================] - 335s 148ms/step - loss: 0.3762 - acc: 0.8427 - val_loss: 0.3591 - val_acc: 0.8583\n",
            "Epoch 4/25\n",
            "2270/2270 [==============================] - 337s 148ms/step - loss: 0.2934 - acc: 0.8861 - val_loss: 0.2184 - val_acc: 0.9234\n",
            "Epoch 5/25\n",
            "2270/2270 [==============================] - 337s 149ms/step - loss: 0.2423 - acc: 0.9101 - val_loss: 0.1714 - val_acc: 0.9419\n",
            "Epoch 6/25\n",
            "2270/2270 [==============================] - 339s 149ms/step - loss: 0.2117 - acc: 0.9249 - val_loss: 0.3229 - val_acc: 0.8803\n",
            "Epoch 7/25\n",
            "2270/2270 [==============================] - 340s 150ms/step - loss: 0.2193 - acc: 0.9143 - val_loss: 0.1935 - val_acc: 0.9357\n",
            "Epoch 8/25\n",
            "2270/2270 [==============================] - 340s 150ms/step - loss: 0.1983 - acc: 0.9242 - val_loss: 0.2042 - val_acc: 0.9287\n",
            "Epoch 9/25\n",
            "2270/2270 [==============================] - 340s 150ms/step - loss: 0.1636 - acc: 0.9414 - val_loss: 0.1744 - val_acc: 0.9445\n",
            "Epoch 10/25\n",
            "2270/2270 [==============================] - 337s 148ms/step - loss: 0.1690 - acc: 0.9419 - val_loss: 0.1666 - val_acc: 0.9507\n",
            "Epoch 11/25\n",
            "2270/2270 [==============================] - 340s 150ms/step - loss: 0.1965 - acc: 0.9282 - val_loss: 0.1445 - val_acc: 0.9489\n",
            "Epoch 12/25\n",
            "2270/2270 [==============================] - 339s 149ms/step - loss: 0.1509 - acc: 0.9533 - val_loss: 0.1665 - val_acc: 0.9331\n",
            "Epoch 13/25\n",
            "2270/2270 [==============================] - 340s 150ms/step - loss: 0.1542 - acc: 0.9493 - val_loss: 0.2113 - val_acc: 0.9287\n",
            "Epoch 14/25\n",
            "2270/2270 [==============================] - 339s 150ms/step - loss: 0.1529 - acc: 0.9438 - val_loss: 0.2044 - val_acc: 0.9366\n",
            "Epoch 15/25\n",
            "2270/2270 [==============================] - 340s 150ms/step - loss: 0.1487 - acc: 0.9485 - val_loss: 0.1119 - val_acc: 0.9613\n",
            "Epoch 16/25\n",
            "2270/2270 [==============================] - 340s 150ms/step - loss: 0.1706 - acc: 0.9410 - val_loss: 0.1238 - val_acc: 0.9507\n",
            "Epoch 17/25\n",
            "2270/2270 [==============================] - 340s 150ms/step - loss: 0.1202 - acc: 0.9634 - val_loss: 0.1322 - val_acc: 0.9472\n",
            "Epoch 18/25\n",
            "2270/2270 [==============================] - 340s 150ms/step - loss: 0.1050 - acc: 0.9632 - val_loss: 0.1532 - val_acc: 0.9525\n",
            "Epoch 19/25\n",
            "2270/2270 [==============================] - 340s 150ms/step - loss: 0.1026 - acc: 0.9661 - val_loss: 0.1653 - val_acc: 0.9428\n",
            "Epoch 20/25\n",
            "2270/2270 [==============================] - 339s 149ms/step - loss: 0.0979 - acc: 0.9698 - val_loss: 0.1235 - val_acc: 0.9419\n",
            "Epoch 21/25\n",
            "2270/2270 [==============================] - 339s 149ms/step - loss: 0.0998 - acc: 0.9637 - val_loss: 0.1538 - val_acc: 0.9577\n",
            "Epoch 22/25\n",
            "2270/2270 [==============================] - 340s 150ms/step - loss: 0.1100 - acc: 0.9670 - val_loss: 0.1025 - val_acc: 0.9630\n",
            "Epoch 23/25\n",
            "2270/2270 [==============================] - 341s 150ms/step - loss: 0.4032 - acc: 0.8073 - val_loss: 0.3651 - val_acc: 0.8257\n",
            "Epoch 24/25\n",
            "2270/2270 [==============================] - 341s 150ms/step - loss: 0.5302 - acc: 0.7579 - val_loss: 0.3732 - val_acc: 0.8565\n",
            "Epoch 25/25\n",
            "2270/2270 [==============================] - 341s 150ms/step - loss: 0.2867 - acc: 0.9037 - val_loss: 0.2314 - val_acc: 0.9190\n"
          ],
          "name": "stdout"
        }
      ]
    },
    {
      "cell_type": "code",
      "metadata": {
        "id": "pkZSeFYGJYS-",
        "colab_type": "code",
        "outputId": "771bf9aa-ff5d-4048-9aef-5b67a5af4de8",
        "colab": {
          "base_uri": "https://localhost:8080/",
          "height": 590
        }
      },
      "source": [
        "print(history.history.keys())\n",
        "# summarize history for accuracy\n",
        "plt.plot(history.history['acc'])\n",
        "plt.plot(history.history['val_acc'])\n",
        "plt.title('model accuracy')\n",
        "plt.ylabel('accuracy')\n",
        "plt.xlabel('epoch')\n",
        "plt.legend(['train', 'test'], loc='upper left')\n",
        "plt.show()\n",
        "# summarize history for loss\n",
        "plt.plot(history.history['loss'])\n",
        "plt.plot(history.history['val_loss'])\n",
        "plt.title('model loss')\n",
        "plt.ylabel('loss')\n",
        "plt.xlabel('epoch')\n",
        "plt.legend(['train', 'test'], loc='upper left') \n",
        "plt.show()"
      ],
      "execution_count": 19,
      "outputs": [
        {
          "output_type": "stream",
          "text": [
            "dict_keys(['val_loss', 'val_acc', 'loss', 'acc'])\n"
          ],
          "name": "stdout"
        },
        {
          "output_type": "display_data",
          "data": {
            "image/png": "[encoded data removed]",
            "text/plain": [
              "<Figure size 432x288 with 1 Axes>"
            ]
          },
          "metadata": {
            "tags": []
          }
        },
        {
          "output_type": "display_data",
          "data": {
            "image/png": "[encoded data removed]",
            "text/plain": [
              "<Figure size 432x288 with 1 Axes>"
            ]
          },
          "metadata": {
            "tags": []
          }
        }
      ]
    },
    {
      "cell_type": "code",
      "metadata": {
        "id": "5TYZ7QVsYWi5",
        "colab_type": "code",
        "outputId": "a620c323-8efb-4c80-b2b2-a05d549e3e5e",
        "colab": {
          "base_uri": "https://localhost:8080/",
          "height": 68
        }
      },
      "source": [
        "model = load_model('model_8.h5')\n",
        "randomnoise = np.random.rand(3,length_rate,2)\n",
        "\n",
        "print(model.predict(randomnoise))"
      ],
      "execution_count": 20,
      "outputs": [
        {
          "output_type": "stream",
          "text": [
            "[[0.03555062 0.9643848 ]\n",
            " [0.01849663 0.9817597 ]\n",
            " [0.0177546  0.98255783]]\n"
          ],
          "name": "stdout"
        }
      ]
    },
    {
      "cell_type": "code",
      "metadata": {
        "id": "eYu_FsRdxISv",
        "colab_type": "code",
        "outputId": "b8e48110-fac9-4ad6-edcd-d93cedce2a37",
        "colab": {
          "base_uri": "https://localhost:8080/",
          "height": 102
        }
      },
      "source": [
        "file_name = '/content/drive/My Drive/data/True_Test_wav'\n",
        "# Searches for all files\n",
        "path, dirs, files = next(os.walk(file_name))\n",
        "# Finds the number of files. \n",
        "file_count = len(files)\n",
        "print('total num of files: ' + str(file_count))\n",
        "\n",
        "folder = '/content/drive/My Drive/data/True_Test_wav'\n",
        "rate = 441\n",
        "time_seconds = 30\n",
        "length_rate = rate*time_seconds\n",
        "file_count = file_count-1\n",
        "print(file_count)\n",
        "test_true = np.zeros((file_count, length_rate,2), dtype=float)\n",
        "for i in range(0,file_count):\n",
        "  if i%100==0:\n",
        "    print(str(i)+\" files have been loaded\")\n",
        "  name = folder+'/'+str(i+1)+'.wav'\n",
        "  test_true[i][:][:] = read_mp3(name, rate, True)\n",
        "print(\"Tensor shape: \"+ str(test_true.shape))"
      ],
      "execution_count": 21,
      "outputs": [
        {
          "output_type": "stream",
          "text": [
            "total num of files: 135\n",
            "134\n",
            "0 files have been loaded\n",
            "100 files have been loaded\n",
            "Tensor shape: (134, 13230, 2)\n"
          ],
          "name": "stdout"
        }
      ]
    },
    {
      "cell_type": "code",
      "metadata": {
        "id": "1Br2XEhvt3Cv",
        "colab_type": "code",
        "outputId": "47f224de-92f7-40a4-9cd1-d2af3df8c541",
        "colab": {
          "base_uri": "https://localhost:8080/",
          "height": 102
        }
      },
      "source": [
        "file_name = '/content/drive/My Drive/data/False_Test_wav'\n",
        "# Searches for all files\n",
        "path, dirs, files = next(os.walk(file_name))\n",
        "# Finds the number of files. \n",
        "file_count = len(files)\n",
        "print('total num of files: ' + str(file_count))\n",
        "\n",
        "folder = '/content/drive/My Drive/data/False_Test_wav'\n",
        "rate = 441\n",
        "time_seconds = 30\n",
        "length_rate = rate*time_seconds\n",
        "file_count = file_count-1\n",
        "print(file_count)\n",
        "test_false = np.zeros((file_count, length_rate,2), dtype=float)\n",
        "for i in range(0,file_count):\n",
        "  if i%100==0:\n",
        "    print(str(i)+\" files have been loaded\")\n",
        "  name = folder+'/'+str(i+1)+'.wav'\n",
        "  test_false[i][:][:] = read_mp3(name, rate, True)\n",
        "print(\"Tensor shape: \"+ str(test_false.shape))\n",
        "# test_false = np.random.rand(134,length_rate,2)"
      ],
      "execution_count": 22,
      "outputs": [
        {
          "output_type": "stream",
          "text": [
            "total num of files: 120\n",
            "119\n",
            "0 files have been loaded\n",
            "100 files have been loaded\n",
            "Tensor shape: (119, 13230, 2)\n"
          ],
          "name": "stdout"
        }
      ]
    },
    {
      "cell_type": "code",
      "metadata": {
        "id": "ORSzkjEAuHSx",
        "colab_type": "code",
        "outputId": "e8560b1b-69f3-4e82-9823-0f4edc59d7f3",
        "colab": {
          "base_uri": "https://localhost:8080/",
          "height": 51
        }
      },
      "source": [
        "labeltrue_test = np.concatenate((np.ones((test_true.shape[0],1),dtype='int64'),np.zeros((test_true.shape[0],1),dtype='int64')), axis=1)\n",
        "print(labeltrue_test.shape)\n",
        "labelfalse_test = np.concatenate((np.zeros((test_false.shape[0],1),dtype='int64'),np.ones((test_false.shape[0],1),dtype='int64')), axis=1)\n",
        "print(labelfalse_test.shape)\n",
        "test_label = np.concatenate((labeltrue_test, labelfalse_test))\n",
        "test = np.concatenate((test_true, test_false))"
      ],
      "execution_count": 23,
      "outputs": [
        {
          "output_type": "stream",
          "text": [
            "(134, 2)\n",
            "(119, 2)\n"
          ],
          "name": "stdout"
        }
      ]
    },
    {
      "cell_type": "code",
      "metadata": {
        "id": "LLDUN1xPPGQ2",
        "colab_type": "code",
        "outputId": "97c030a2-6884-4e33-bc5f-2816b12a1ff3",
        "colab": {
          "base_uri": "https://localhost:8080/",
          "height": 51
        }
      },
      "source": [
        "print(test_label[183])\n",
        "print(test_label[184])"
      ],
      "execution_count": 0,
      "outputs": [
        {
          "output_type": "stream",
          "text": [
            "[0 1]\n",
            "[0 1]\n"
          ],
          "name": "stdout"
        }
      ]
    },
    {
      "cell_type": "code",
      "metadata": {
        "id": "6r5qvuH1ufdX",
        "colab_type": "code",
        "colab": {}
      },
      "source": [
        "\n",
        "# test,test_label = shuffle(test,test_label, random_state=2)"
      ],
      "execution_count": 0,
      "outputs": []
    },
    {
      "cell_type": "code",
      "metadata": {
        "id": "mI7yCv7wPTYg",
        "colab_type": "code",
        "outputId": "5fcb4883-c36b-483d-c8a1-7b2022e14c34",
        "colab": {
          "base_uri": "https://localhost:8080/",
          "height": 1000
        }
      },
      "source": [
        "print(model.predict(test_false))\n",
        "print('------------')\n",
        "print(model.predict(test_true))\n",
        "print('--------------')\n",
        "print(np.argmax(model.predict(test_false), axis=1))\n",
        "print(np.argmax(model.predict(test_true), axis=1))"
      ],
      "execution_count": 24,
      "outputs": [
        {
          "output_type": "stream",
          "text": [
            "[[0.01205    0.9880159 ]\n",
            " [0.01394895 0.9860642 ]\n",
            " [0.01448062 0.9855324 ]\n",
            " [0.01371655 0.9863061 ]\n",
            " [0.01263773 0.987425  ]\n",
            " [0.01391041 0.98610497]\n",
            " [0.01447478 0.9855505 ]\n",
            " [0.0159288  0.98405784]\n",
            " [0.01277944 0.9872713 ]\n",
            " [0.01485437 0.98514235]\n",
            " [0.0146805  0.9853523 ]\n",
            " [0.01208007 0.9879657 ]\n",
            " [0.01285309 0.9871799 ]\n",
            " [0.01290965 0.9870998 ]\n",
            " [0.02180475 0.9780128 ]\n",
            " [0.0133923  0.9866346 ]\n",
            " [0.01417956 0.98581505]\n",
            " [0.01335409 0.98668194]\n",
            " [0.01223391 0.9878332 ]\n",
            " [0.01627785 0.9836577 ]\n",
            " [0.01596746 0.9840718 ]\n",
            " [0.01393902 0.9860925 ]\n",
            " [0.0156759  0.9843261 ]\n",
            " [0.01360336 0.986427  ]\n",
            " [0.01324075 0.9867585 ]\n",
            " [0.01405761 0.9859316 ]\n",
            " [0.0266802  0.97291946]\n",
            " [0.01252517 0.9875275 ]\n",
            " [0.0130586  0.9869789 ]\n",
            " [0.01439393 0.9856394 ]\n",
            " [0.02202001 0.9777021 ]\n",
            " [0.01303744 0.9870048 ]\n",
            " [0.01472086 0.9852974 ]\n",
            " [0.01553822 0.9844655 ]\n",
            " [0.01372838 0.9862819 ]\n",
            " [0.02687517 0.9726925 ]\n",
            " [0.0142349  0.985803  ]\n",
            " [0.01203871 0.9880145 ]\n",
            " [0.02179313 0.97806525]\n",
            " [0.01374698 0.98628384]\n",
            " [0.01511002 0.9848423 ]\n",
            " [0.01242143 0.98765695]\n",
            " [0.01224309 0.98781204]\n",
            " [0.0132094  0.98682964]\n",
            " [0.01481605 0.98519516]\n",
            " [0.01505652 0.9849507 ]\n",
            " [0.01263788 0.987398  ]\n",
            " [0.01413438 0.98590124]\n",
            " [0.01532897 0.98467696]\n",
            " [0.01311228 0.98693573]\n",
            " [0.01397192 0.9860749 ]\n",
            " [0.01349437 0.98652697]\n",
            " [0.01226148 0.98778546]\n",
            " [0.01538369 0.98462176]\n",
            " [0.01388085 0.98617876]\n",
            " [0.01490438 0.9850687 ]\n",
            " [0.0128282  0.98723805]\n",
            " [0.01373979 0.9863126 ]\n",
            " [0.01290596 0.9871191 ]\n",
            " [0.01473466 0.9852945 ]\n",
            " [0.01849854 0.9813718 ]\n",
            " [0.01457238 0.9854573 ]\n",
            " [0.01305893 0.9869602 ]\n",
            " [0.01320371 0.9868306 ]\n",
            " [0.01635984 0.98363113]\n",
            " [0.01374438 0.9862797 ]\n",
            " [0.01442468 0.98562527]\n",
            " [0.01307446 0.9869783 ]\n",
            " [0.01344413 0.98658156]\n",
            " [0.01235634 0.98770964]\n",
            " [0.01295891 0.9870974 ]\n",
            " [0.02072823 0.9791106 ]\n",
            " [0.01297134 0.98708284]\n",
            " [0.01291957 0.9871422 ]\n",
            " [0.01279959 0.987234  ]\n",
            " [0.01441008 0.98563135]\n",
            " [0.01248121 0.9875822 ]\n",
            " [0.01367533 0.9863821 ]\n",
            " [0.01270831 0.9873148 ]\n",
            " [0.01418582 0.98583287]\n",
            " [0.01282069 0.9872271 ]\n",
            " [0.01945516 0.9804288 ]\n",
            " [0.01246023 0.9875935 ]\n",
            " [0.01295167 0.98709303]\n",
            " [0.01204839 0.98799753]\n",
            " [0.01646861 0.9834942 ]\n",
            " [0.01321262 0.9868362 ]\n",
            " [0.01984966 0.98003006]\n",
            " [0.01710862 0.98287755]\n",
            " [0.0130305  0.9870311 ]\n",
            " [0.01267359 0.9873725 ]\n",
            " [0.01613936 0.983866  ]\n",
            " [0.01305434 0.98699784]\n",
            " [0.0146842  0.9853172 ]\n",
            " [0.02859038 0.97095954]\n",
            " [0.01266295 0.98738045]\n",
            " [0.01461709 0.9853854 ]\n",
            " [0.0130384  0.9870192 ]\n",
            " [0.01277387 0.98727334]\n",
            " [0.01290563 0.98710585]\n",
            " [0.02444312 0.9752824 ]\n",
            " [0.01326048 0.986763  ]\n",
            " [0.01286709 0.98717165]\n",
            " [0.01264557 0.98741156]\n",
            " [0.01512244 0.98487973]\n",
            " [0.01248491 0.9875804 ]\n",
            " [0.01420912 0.98581207]\n",
            " [0.01347744 0.9865663 ]\n",
            " [0.01262879 0.98742497]\n",
            " [0.01698697 0.9829465 ]\n",
            " [0.01339608 0.9866512 ]\n",
            " [0.01387322 0.9861592 ]\n",
            " [0.01582292 0.98417145]\n",
            " [0.01628083 0.98369634]\n",
            " [0.01296371 0.9871008 ]\n",
            " [0.01267797 0.9873765 ]\n",
            " [0.02368319 0.9760485 ]\n",
            " [0.01301667 0.9870491 ]\n",
            " [0.1727518  0.81355417]]\n",
            "------------\n",
            "[[0.9382479  0.05483562]\n",
            " [0.2572695  0.7534847 ]\n",
            " [0.8709394  0.11863765]\n",
            " [0.9417318  0.05190232]\n",
            " [0.9310286  0.06172284]\n",
            " [0.8813469  0.11090738]\n",
            " [0.94081074 0.05271885]\n",
            " [0.66048616 0.3411603 ]\n",
            " [0.87723565 0.11234024]\n",
            " [0.89126515 0.09829915]\n",
            " [0.93998706 0.05381021]\n",
            " [0.8672431  0.12470871]\n",
            " [0.9160574  0.07637268]\n",
            " [0.7834189  0.2101869 ]\n",
            " [0.9324434  0.05977246]\n",
            " [0.9212597  0.0704332 ]\n",
            " [0.8757324  0.11556074]\n",
            " [0.884063   0.10551247]\n",
            " [0.8826537  0.10821882]\n",
            " [0.91131437 0.08072376]\n",
            " [0.8807698  0.11302757]\n",
            " [0.8902576  0.10207728]\n",
            " [0.8168136  0.17659897]\n",
            " [0.8867308  0.10629272]\n",
            " [0.8651424  0.12589869]\n",
            " [0.89441514 0.09782031]\n",
            " [0.9221344  0.07125178]\n",
            " [0.8992783  0.09259102]\n",
            " [0.88620526 0.10570398]\n",
            " [0.45553055 0.55891114]\n",
            " [0.8726913  0.11920777]\n",
            " [0.8320383  0.16110611]\n",
            " [0.9182602  0.07500836]\n",
            " [0.8769649  0.11627102]\n",
            " [0.87244    0.12034953]\n",
            " [0.78312415 0.21262482]\n",
            " [0.90863216 0.08419967]\n",
            " [0.8399446  0.1541279 ]\n",
            " [0.91064274 0.08299795]\n",
            " [0.8721248  0.12118268]\n",
            " [0.88747615 0.10564578]\n",
            " [0.88626134 0.10634944]\n",
            " [0.8161557  0.1774149 ]\n",
            " [0.89804643 0.09592426]\n",
            " [0.8668017  0.12447163]\n",
            " [0.74474764 0.25094634]\n",
            " [0.88249505 0.11051425]\n",
            " [0.8663541  0.1254136 ]\n",
            " [0.8981987  0.09506261]\n",
            " [0.8822545  0.11006647]\n",
            " [0.84481543 0.14960915]\n",
            " [0.84240085 0.14945677]\n",
            " [0.8892687  0.10290399]\n",
            " [0.7100564  0.2863813 ]\n",
            " [0.82940114 0.16273448]\n",
            " [0.8284103  0.16386753]\n",
            " [0.9108833  0.0814814 ]\n",
            " [0.91230786 0.08061072]\n",
            " [0.8864695  0.10560852]\n",
            " [0.86582005 0.12776715]\n",
            " [0.92593807 0.0673508 ]\n",
            " [0.88997537 0.10283518]\n",
            " [0.7991296  0.19376913]\n",
            " [0.86089444 0.13191578]\n",
            " [0.83905363 0.15229836]\n",
            " [0.8090284  0.18291366]\n",
            " [0.8149401  0.17943177]\n",
            " [0.8604743  0.13006088]\n",
            " [0.86290157 0.12915489]\n",
            " [0.7516044  0.24513823]\n",
            " [0.8627979  0.12962976]\n",
            " [0.8972119  0.09432802]\n",
            " [0.86255574 0.12939924]\n",
            " [0.91939604 0.07371083]\n",
            " [0.8836816  0.10830688]\n",
            " [0.8210392  0.17255741]\n",
            " [0.9003867  0.09167355]\n",
            " [0.8502     0.14200622]\n",
            " [0.8759698  0.11498401]\n",
            " [0.87428606 0.11675942]\n",
            " [0.83367807 0.15823287]\n",
            " [0.88798386 0.10567185]\n",
            " [0.8590465  0.1326926 ]\n",
            " [0.9089538  0.08286732]\n",
            " [0.8710416  0.119809  ]\n",
            " [0.87819374 0.11361688]\n",
            " [0.8163465  0.1768015 ]\n",
            " [0.676507   0.3224789 ]\n",
            " [0.86263084 0.12923983]\n",
            " [0.8804518  0.11222076]\n",
            " [0.8734596  0.11772215]\n",
            " [0.8612443  0.13017365]\n",
            " [0.8619118  0.13054973]\n",
            " [0.83449006 0.15918055]\n",
            " [0.82655466 0.16633171]\n",
            " [0.6507069  0.3506528 ]\n",
            " [0.82698363 0.16477102]\n",
            " [0.90005994 0.09260091]\n",
            " [0.8770651  0.11545637]\n",
            " [0.72205555 0.27164346]\n",
            " [0.8898045  0.10251543]\n",
            " [0.7939427  0.19994977]\n",
            " [0.7088118  0.28913003]\n",
            " [0.88241804 0.11052564]\n",
            " [0.86675394 0.12643799]\n",
            " [0.8638959  0.12932885]\n",
            " [0.6816689  0.3222058 ]\n",
            " [0.8564755  0.13359135]\n",
            " [0.8184159  0.1755442 ]\n",
            " [0.91703665 0.07540545]\n",
            " [0.8302974  0.16228953]\n",
            " [0.9068841  0.08537427]\n",
            " [0.8829657  0.10980168]\n",
            " [0.87423086 0.11781603]\n",
            " [0.89146906 0.10124683]\n",
            " [0.8497926  0.14297187]\n",
            " [0.8924707  0.09953666]\n",
            " [0.84598494 0.146611  ]\n",
            " [0.8608921  0.13225135]\n",
            " [0.9006004  0.09220016]\n",
            " [0.9066973  0.08576965]\n",
            " [0.89018476 0.10119247]\n",
            " [0.66748005 0.3334879 ]\n",
            " [0.8819242  0.11088067]\n",
            " [0.895039   0.09818721]\n",
            " [0.8647976  0.12817469]\n",
            " [0.85909843 0.13219753]\n",
            " [0.8653657  0.12720552]\n",
            " [0.85513246 0.13781905]\n",
            " [0.9131297  0.07861683]\n",
            " [0.91388047 0.07960951]\n",
            " [0.7431396  0.2526344 ]\n",
            " [0.7969833  0.19757932]\n",
            " [0.82839084 0.16303053]]\n",
            "--------------\n",
            "[1 1 1 1 1 1 1 1 1 1 1 1 1 1 1 1 1 1 1 1 1 1 1 1 1 1 1 1 1 1 1 1 1 1 1 1 1\n",
            " 1 1 1 1 1 1 1 1 1 1 1 1 1 1 1 1 1 1 1 1 1 1 1 1 1 1 1 1 1 1 1 1 1 1 1 1 1\n",
            " 1 1 1 1 1 1 1 1 1 1 1 1 1 1 1 1 1 1 1 1 1 1 1 1 1 1 1 1 1 1 1 1 1 1 1 1 1\n",
            " 1 1 1 1 1 1 1 1]\n",
            "[0 1 0 0 0 0 0 0 0 0 0 0 0 0 0 0 0 0 0 0 0 0 0 0 0 0 0 0 0 1 0 0 0 0 0 0 0\n",
            " 0 0 0 0 0 0 0 0 0 0 0 0 0 0 0 0 0 0 0 0 0 0 0 0 0 0 0 0 0 0 0 0 0 0 0 0 0\n",
            " 0 0 0 0 0 0 0 0 0 0 0 0 0 0 0 0 0 0 0 0 0 0 0 0 0 0 0 0 0 0 0 0 0 0 0 0 0\n",
            " 0 0 0 0 0 0 0 0 0 0 0 0 0 0 0 0 0 0 0 0 0 0 0]\n"
          ],
          "name": "stdout"
        }
      ]
    },
    {
      "cell_type": "code",
      "metadata": {
        "id": "Sgytm-NBI_ry",
        "colab_type": "code",
        "outputId": "2fee840d-a2e4-4094-b1e6-de1edafb7489",
        "colab": {
          "base_uri": "https://localhost:8080/",
          "height": 501
        }
      },
      "source": [
        "print(np.argmax(test_label, axis=1))\n",
        "print(np.argmax(model.predict(test), axis=1))\n",
        "cm=confusion_matrix(np.argmax(test_label, axis=1), np.argmax(model.predict(test), axis=1))\n",
        "plt.matshow(cm)\n",
        "plt.title('Confusion matrix')\n",
        "plt.colorbar()\n",
        "plt.ylabel('True label')\n",
        "plt.xlabel('Predicted label')\n",
        "plt.show()"
      ],
      "execution_count": 25,
      "outputs": [
        {
          "output_type": "stream",
          "text": [
            "[0 0 0 0 0 0 0 0 0 0 0 0 0 0 0 0 0 0 0 0 0 0 0 0 0 0 0 0 0 0 0 0 0 0 0 0 0\n",
            " 0 0 0 0 0 0 0 0 0 0 0 0 0 0 0 0 0 0 0 0 0 0 0 0 0 0 0 0 0 0 0 0 0 0 0 0 0\n",
            " 0 0 0 0 0 0 0 0 0 0 0 0 0 0 0 0 0 0 0 0 0 0 0 0 0 0 0 0 0 0 0 0 0 0 0 0 0\n",
            " 0 0 0 0 0 0 0 0 0 0 0 0 0 0 0 0 0 0 0 0 0 0 0 1 1 1 1 1 1 1 1 1 1 1 1 1 1\n",
            " 1 1 1 1 1 1 1 1 1 1 1 1 1 1 1 1 1 1 1 1 1 1 1 1 1 1 1 1 1 1 1 1 1 1 1 1 1\n",
            " 1 1 1 1 1 1 1 1 1 1 1 1 1 1 1 1 1 1 1 1 1 1 1 1 1 1 1 1 1 1 1 1 1 1 1 1 1\n",
            " 1 1 1 1 1 1 1 1 1 1 1 1 1 1 1 1 1 1 1 1 1 1 1 1 1 1 1 1 1 1 1]\n",
            "[0 1 0 0 0 0 0 0 0 0 0 0 0 0 0 0 0 0 0 0 0 0 0 0 0 0 0 0 0 1 0 0 0 0 0 0 0\n",
            " 0 0 0 0 0 0 0 0 0 0 0 0 0 0 0 0 0 0 0 0 0 0 0 0 0 0 0 0 0 0 0 0 0 0 0 0 0\n",
            " 0 0 0 0 0 0 0 0 0 0 0 0 0 0 0 0 0 0 0 0 0 0 0 0 0 0 0 0 0 0 0 0 0 0 0 0 0\n",
            " 0 0 0 0 0 0 0 0 0 0 0 0 0 0 0 0 0 0 0 0 0 0 0 1 1 1 1 1 1 1 1 1 1 1 1 1 1\n",
            " 1 1 1 1 1 1 1 1 1 1 1 1 1 1 1 1 1 1 1 1 1 1 1 1 1 1 1 1 1 1 1 1 1 1 1 1 1\n",
            " 1 1 1 1 1 1 1 1 1 1 1 1 1 1 1 1 1 1 1 1 1 1 1 1 1 1 1 1 1 1 1 1 1 1 1 1 1\n",
            " 1 1 1 1 1 1 1 1 1 1 1 1 1 1 1 1 1 1 1 1 1 1 1 1 1 1 1 1 1 1 1]\n"
          ],
          "name": "stdout"
        },
        {
          "output_type": "display_data",
          "data": {
            "image/png": "[encoded data removed]",
            "text/plain": [
              "<Figure size 288x288 with 2 Axes>"
            ]
          },
          "metadata": {
            "tags": []
          }
        }
      ]
    },
    {
      "cell_type": "markdown",
      "metadata": {
        "id": "Shn3iEMEAXE8",
        "colab_type": "text"
      },
      "source": [
        ""
      ]
    }
  ]
}