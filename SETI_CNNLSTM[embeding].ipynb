{
  "nbformat": 4,
  "nbformat_minor": 0,
  "metadata": {
    "colab": {
      "name": "SETI- CNNLSTM[embeding]",
      "provenance": [],
      "collapsed_sections": [],
      "toc_visible": true,
      "machine_shape": "hm",
      "include_colab_link": true
    },
    "kernelspec": {
      "name": "python3",
      "display_name": "Python 3"
    },
    "accelerator": "GPU"
  },
  "cells": [
    {
      "cell_type": "markdown",
      "metadata": {
        "id": "view-in-github",
        "colab_type": "text"
      },
      "source": [
        "<a href=\"https://colab.research.google.com/github/PetchMa/DeepSearch/blob/master/SETI_CNNLSTM%5Bembeding%5D.ipynb\" target=\"_parent\"><img src=\"https://colab.research.google.com/assets/colab-badge.svg\" alt=\"Open In Colab\"/></a>"
      ]
    },
    {
      "cell_type": "code",
      "metadata": {
        "id": "HJ_s8GXJMNjG",
        "colab_type": "code",
        "outputId": "af870abb-86fa-4081-b2e3-70ebe5e3c1b2",
        "colab": {
          "base_uri": "https://localhost:8080/",
          "height": 122
        }
      },
      "source": [
        "from google.colab import drive\n",
        "drive.mount('/content/drive/')"
      ],
      "execution_count": 0,
      "outputs": [
        {
          "output_type": "stream",
          "text": [
            "Go to this URL in a browser: https://accounts.google.com/o/oauth2/auth?client_id=947318989803-6bn6qk8qdgf4n4g3pfee6491hc0brc4i.apps.googleusercontent.com&redirect_uri=urn%3aietf%3awg%3aoauth%3a2.0%3aoob&response_type=code&scope=email%20https%3a%2f%2fwww.googleapis.com%2fauth%2fdocs.test%20https%3a%2f%2fwww.googleapis.com%2fauth%2fdrive%20https%3a%2f%2fwww.googleapis.com%2fauth%2fdrive.photos.readonly%20https%3a%2f%2fwww.googleapis.com%2fauth%2fpeopleapi.readonly\n",
            "\n",
            "Enter your authorization code:\n",
            "··········\n",
            "Mounted at /content/drive/\n"
          ],
          "name": "stdout"
        }
      ]
    },
    {
      "cell_type": "code",
      "metadata": {
        "id": "zPq_lXA_MRTI",
        "colab_type": "code",
        "outputId": "3a2b7dd9-8b1d-40e5-bf3d-8ccaa440635b",
        "colab": {
          "base_uri": "https://localhost:8080/",
          "height": 493
        }
      },
      "source": [
        "!apt install ffmpeg\n",
        "!wget https://bin.equinox.io/c/4VmDzA7iaHb/ngrok-stable-linux-amd64.zip\n",
        "!unzip ngrok-stable-linux-amd64.zip\n",
        "!pip install pydub\n",
        "LOG_DIR = './log'\n",
        "get_ipython().system_raw(\n",
        "    'tensorboard --logdir {} --host 0.0.0.0 --port 6006 &'\n",
        "    .format(LOG_DIR)\n",
        ")\n",
        "!pip install h5py\n",
        "# !unzip '/content/drive/My Drive/Deeplearning/Information/train.zip' -d '/content/drive/My Drive/Deeplearning/Information/Train_wav'"
      ],
      "execution_count": 0,
      "outputs": [
        {
          "output_type": "stream",
          "text": [
            "Reading package lists... Done\n",
            "Building dependency tree       \n",
            "Reading state information... Done\n",
            "ffmpeg is already the newest version (7:3.4.6-0ubuntu0.18.04.1).\n",
            "The following package was automatically installed and is no longer required:\n",
            "  libnvidia-common-430\n",
            "Use 'apt autoremove' to remove it.\n",
            "0 upgraded, 0 newly installed, 0 to remove and 7 not upgraded.\n",
            "--2019-12-29 20:51:51--  https://bin.equinox.io/c/4VmDzA7iaHb/ngrok-stable-linux-amd64.zip\n",
            "Resolving bin.equinox.io (bin.equinox.io)... 54.165.42.51, 34.206.126.139, 34.230.145.192, ...\n",
            "Connecting to bin.equinox.io (bin.equinox.io)|54.165.42.51|:443... connected.\n",
            "HTTP request sent, awaiting response... 200 OK\n",
            "Length: 13773305 (13M) [application/octet-stream]\n",
            "Saving to: ‘ngrok-stable-linux-amd64.zip’\n",
            "\n",
            "ngrok-stable-linux- 100%[===================>]  13.13M  17.4MB/s    in 0.8s    \n",
            "\n",
            "2019-12-29 20:51:52 (17.4 MB/s) - ‘ngrok-stable-linux-amd64.zip’ saved [13773305/13773305]\n",
            "\n",
            "Archive:  ngrok-stable-linux-amd64.zip\n",
            "  inflating: ngrok                   \n",
            "Collecting pydub\n",
            "  Downloading https://files.pythonhosted.org/packages/79/db/eaf620b73a1eec3c8c6f8f5b0b236a50f9da88ad57802154b7ba7664d0b8/pydub-0.23.1-py2.py3-none-any.whl\n",
            "Installing collected packages: pydub\n",
            "Successfully installed pydub-0.23.1\n",
            "Requirement already satisfied: h5py in /usr/local/lib/python3.6/dist-packages (2.8.0)\n",
            "Requirement already satisfied: numpy>=1.7 in /usr/local/lib/python3.6/dist-packages (from h5py) (1.17.4)\n",
            "Requirement already satisfied: six in /usr/local/lib/python3.6/dist-packages (from h5py) (1.12.0)\n"
          ],
          "name": "stdout"
        }
      ]
    },
    {
      "cell_type": "code",
      "metadata": {
        "id": "votM_3Qw_jFc",
        "colab_type": "code",
        "outputId": "20199b21-da58-41a7-aefb-0c7cb0270686",
        "colab": {
          "base_uri": "https://localhost:8080/",
          "height": 80
        }
      },
      "source": [
        "import tensorflow as tf \n",
        "from keras.models import Sequential \n",
        "from keras.layers import Dense, Dropout, LSTM, CuDNNLSTM, ConvLSTM2D\n",
        "from keras.layers.core import Activation, Flatten\n",
        "import matplotlib.pyplot as plt\n",
        "from keras.optimizers import SGD,RMSprop,adam\n",
        "from keras.models import load_model\n",
        "from sklearn.utils import shuffle\n",
        "from keras.losses import binary_crossentropy\n",
        "from sklearn.model_selection import train_test_split\n",
        "from keras.utils import np_utils\n",
        "import os, os.path\n",
        "import numpy as np\n",
        "import tempfile\n",
        "import pydub\n",
        "import scipy.io.wavfile\n",
        "from keras.layers import Reshape\n",
        "from keras import losses\n",
        "from keras.layers.advanced_activations import LeakyReLU\n",
        "from pydub import AudioSegment\n",
        "from scipy.io import wavfile\n",
        "from keras.layers import Input, LSTM, MaxPooling1D, Conv1D\n",
        "from keras.models import Model\n",
        "from keras import backend as K\n",
        "from keras.layers.convolutional import Convolution1D\n",
        "from keras.layers import  Conv2D, MaxPool3D, MaxPooling3D, TimeDistributed, Embedding \n",
        "from keras.layers import BatchNormalization\n",
        "from keras.callbacks import TensorBoard\n",
        "from keras.callbacks import EarlyStopping, ModelCheckpoint\n",
        "from sklearn.metrics import confusion_matrix"
      ],
      "execution_count": 0,
      "outputs": [
        {
          "output_type": "display_data",
          "data": {
            "text/html": [
              "<p style=\"color: red;\">\n",
              "The default version of TensorFlow in Colab will soon switch to TensorFlow 2.x.<br>\n",
              "We recommend you <a href=\"https://www.tensorflow.org/guide/migrate\" target=\"_blank\">upgrade</a> now \n",
              "or ensure your notebook will continue to use TensorFlow 1.x via the <code>%tensorflow_version 1.x</code> magic:\n",
              "<a href=\"https://colab.research.google.com/notebooks/tensorflow_version.ipynb\" target=\"_blank\">more info</a>.</p>\n"
            ],
            "text/plain": [
              "<IPython.core.display.HTML object>"
            ]
          },
          "metadata": {
            "tags": []
          }
        },
        {
          "output_type": "stream",
          "text": [
            "Using TensorFlow backend.\n"
          ],
          "name": "stderr"
        }
      ]
    },
    {
      "cell_type": "code",
      "metadata": {
        "id": "H3XFpHBxMLHu",
        "colab_type": "code",
        "colab": {}
      },
      "source": [
        "# https://keras.io/examples/imdb_cnn_lstm/\n",
        "def read_mp3(file_path, rate,  as_float = False):\n",
        "    path, ext = os.path.splitext(file_path)\n",
        "    assert ext=='.wav'\n",
        "    mp3 = pydub.AudioSegment.from_file(file_path, format=\"wav\")\n",
        "    mp3 = mp3.set_frame_rate(rate)\n",
        "    _, path = tempfile.mkstemp()\n",
        "    mp3.export(path, format=\"wav\")\n",
        "    rate, data = scipy.io.wavfile.read(path)\n",
        "    os.remove(path)\n",
        "    if as_float:\n",
        "        data = data/(2**15)\n",
        "    return data"
      ],
      "execution_count": 0,
      "outputs": []
    },
    {
      "cell_type": "code",
      "metadata": {
        "id": "z3uz7lYRND7O",
        "colab_type": "code",
        "outputId": "4fdb2916-9314-4e53-a698-6588ef02a19b",
        "colab": {
          "base_uri": "https://localhost:8080/",
          "height": 34
        }
      },
      "source": [
        "file_name = '/content/drive/My Drive/data/True_Train_wav'\n",
        "# Searches for all files\n",
        "path, dirs, files = next(os.walk(file_name))\n",
        "# Finds the number of files. \n",
        "file_count = len(files)\n",
        "print('total num of files: ' + str(file_count))"
      ],
      "execution_count": 0,
      "outputs": [
        {
          "output_type": "stream",
          "text": [
            "total num of files: 1196\n"
          ],
          "name": "stdout"
        }
      ]
    },
    {
      "cell_type": "code",
      "metadata": {
        "id": "bz8ZOHshNhBl",
        "colab_type": "code",
        "outputId": "17a198bd-f102-42ef-f856-05996bf69b47",
        "colab": {
          "base_uri": "https://localhost:8080/",
          "height": 255
        }
      },
      "source": [
        "folder = '/content/drive/My Drive/data/True_Train_wav'\n",
        "rate = 441\n",
        "time_seconds = 30\n",
        "length_rate = rate*time_seconds\n",
        "file_count = file_count-1\n",
        "print(file_count)\n",
        "dataset = np.zeros((file_count, length_rate,2), dtype=float)\n",
        "for i in range(0,file_count):\n",
        "  if i%100==0:\n",
        "    print(str(i)+\" files have been loaded\")\n",
        "  name = folder+'/'+str(i+1)+'.wav'\n",
        "  dataset[i][:][:] = read_mp3(name, rate, True)\n",
        "print(\"Tensor shape: \"+ str(dataset.shape))\n"
      ],
      "execution_count": 0,
      "outputs": [
        {
          "output_type": "stream",
          "text": [
            "1195\n",
            "0 files have been loaded\n",
            "100 files have been loaded\n",
            "200 files have been loaded\n",
            "300 files have been loaded\n",
            "400 files have been loaded\n",
            "500 files have been loaded\n",
            "600 files have been loaded\n",
            "700 files have been loaded\n",
            "800 files have been loaded\n",
            "900 files have been loaded\n",
            "1000 files have been loaded\n",
            "1100 files have been loaded\n",
            "Tensor shape: (1195, 13230, 2)\n"
          ],
          "name": "stdout"
        }
      ]
    },
    {
      "cell_type": "code",
      "metadata": {
        "id": "Fb4vjZqkqX03",
        "colab_type": "code",
        "outputId": "db354d12-99ef-41db-c368-801b232ba51b",
        "colab": {
          "base_uri": "https://localhost:8080/",
          "height": 34
        }
      },
      "source": [
        "dataset = np.concatenate((dataset, dataset+np.random.rand(dataset.shape[0],dataset.shape[1],dataset.shape[2])*0.1))\n",
        "print(dataset.shape)"
      ],
      "execution_count": 0,
      "outputs": [
        {
          "output_type": "stream",
          "text": [
            "(2390, 13230, 2)\n"
          ],
          "name": "stdout"
        }
      ]
    },
    {
      "cell_type": "code",
      "metadata": {
        "id": "33Qm_WdGFPFR",
        "colab_type": "code",
        "outputId": "afb0c0cb-ab29-47a3-abb1-bd4f5bc145bf",
        "colab": {
          "base_uri": "https://localhost:8080/",
          "height": 272
        }
      },
      "source": [
        "folder = '/content/drive/My Drive/data/False_Train_wav'\n",
        "file_name = '/content/drive/My Drive/data/False_Train_wav'\n",
        "# Searches for all files\n",
        "path, dirs, files = next(os.walk(file_name))\n",
        "# Finds the number of files. \n",
        "file_count = len(files)\n",
        "print('total num of files:' + str(file_count))\n",
        "file_count = file_count -1\n",
        "fake = np.zeros((file_count, length_rate ,2), dtype=float)\n",
        "for i in range(0,file_count):\n",
        "  if i%100==0:\n",
        "    print(str(i)+\" files have been loaded\")\n",
        "  fake[i][:][:] = read_mp3(folder+'/'+str(i+1)+'.wav', rate, True)\n",
        "fake_add = np.random.rand(400, length_rate,2)\n",
        "fake = np.concatenate((fake, fake+np.random.rand(fake.shape[0],fake.shape[1],fake.shape[2])*0.1))\n",
        "fake = np.concatenate((fake, fake_add))\n",
        "print(\"Tensor shape: \"+ str(fake.shape))"
      ],
      "execution_count": 0,
      "outputs": [
        {
          "output_type": "stream",
          "text": [
            "total num of files:1244\n",
            "0 files have been loaded\n",
            "100 files have been loaded\n",
            "200 files have been loaded\n",
            "300 files have been loaded\n",
            "400 files have been loaded\n",
            "500 files have been loaded\n",
            "600 files have been loaded\n",
            "700 files have been loaded\n",
            "800 files have been loaded\n",
            "900 files have been loaded\n",
            "1000 files have been loaded\n",
            "1100 files have been loaded\n",
            "1200 files have been loaded\n",
            "Tensor shape: (2886, 13230, 2)\n"
          ],
          "name": "stdout"
        }
      ]
    },
    {
      "cell_type": "code",
      "metadata": {
        "id": "KpVel_VkGPU3",
        "colab_type": "code",
        "outputId": "f51723bb-efca-49d0-a66f-3032a8f02280",
        "colab": {
          "base_uri": "https://localhost:8080/",
          "height": 85
        }
      },
      "source": [
        "labeltrue = np.concatenate((np.ones((dataset.shape[0],1),dtype='int64'),np.zeros((dataset.shape[0],1),dtype='int64')), axis=1)\n",
        "labelfalse = np.concatenate((np.zeros((fake.shape[0],1),dtype='int64'),np.ones((fake.shape[0],1),dtype='int64')), axis=1)\n",
        "label = np.concatenate((labeltrue, labelfalse))\n",
        "dataset = np.concatenate((dataset, fake))\n",
        "print(label.shape)\n",
        "print(dataset.shape)\n",
        "print(label[398,:])\n",
        "print(label[2200,:])"
      ],
      "execution_count": 0,
      "outputs": [
        {
          "output_type": "stream",
          "text": [
            "(5276, 2)\n",
            "(5276, 13230, 2)\n",
            "[1 0]\n",
            "[1 0]\n"
          ],
          "name": "stdout"
        }
      ]
    },
    {
      "cell_type": "code",
      "metadata": {
        "id": "9qmwEy3LGkos",
        "colab_type": "code",
        "outputId": "b7f457b9-d697-45ee-d949-56975e0ba6f6",
        "colab": {
          "base_uri": "https://localhost:8080/",
          "height": 34
        }
      },
      "source": [
        "dataset,label = shuffle(dataset,label, random_state=3)\n",
        "X_train, X_test, y_train, y_test = train_test_split(dataset, label, test_size=0.2, random_state=2)\n",
        "print(X_train.shape)"
      ],
      "execution_count": 0,
      "outputs": [
        {
          "output_type": "stream",
          "text": [
            "(4220, 13230, 2)\n"
          ],
          "name": "stdout"
        }
      ]
    },
    {
      "cell_type": "code",
      "metadata": {
        "id": "hBQ_LZGHUQkx",
        "colab_type": "code",
        "outputId": "57411db1-239d-47bb-91a4-2086ad8acd15",
        "colab": {
          "base_uri": "https://localhost:8080/",
          "height": 1000
        }
      },
      "source": [
        "# Data to plot\n",
        "labels = 'Spanish', 'English', 'Russian', 'Korean','Music', 'Hindi', 'Ojibwa'\n",
        "sizes = [18/60, 57/60+1, 2+27/60, 1+49/60, 1+18/60,52/60,13/60]\n",
        "colors = ['gold', 'yellowgreen', 'lightcoral', 'lightskyblue', 'pink', 'blue','lightgrey']\n",
        "\n",
        "\n",
        "# Plot\n",
        "plt.title('Information True | 8.9 hours', fontdict=None, loc='center', pad=None)\n",
        "plt.pie(sizes, explode=None, labels=labels, colors=colors,\n",
        "autopct='%1.1f%%', shadow=True, startangle=140)\n",
        "\n",
        "plt.axis('equal')\n",
        "plt.show()\n",
        "\n",
        "# ------------------\n",
        "# Data to plot\n",
        "labels = 'Static', 'Random Sounds', 'Waves', 'Helicopter Blades','Fire Crackle', 'Rain'\n",
        "sizes = [3, 21/60, 1, 2,2,2]\n",
        "colors = ['gold', 'yellowgreen', 'lightcoral', 'lightskyblue', 'pink', 'blue','lightgrey']\n",
        "\n",
        "\n",
        "# Plot\n",
        "plt.title('Noise | 10.35 Hours', fontdict=None, loc='center', pad=None)\n",
        "plt.pie(sizes, explode=None, labels=labels, colors=colors,\n",
        "autopct='%1.1f%%', shadow=True, startangle=140)\n",
        "\n",
        "plt.axis('equal')\n",
        "plt.show()\n",
        "# ------------------\n",
        "# Data to plot\n",
        "labels = 'Spanish', 'English', 'Russian', 'Korean','Music', 'Hindi', 'Ojibwa','Static', 'Random Sounds', 'Waves', 'Helicopter Blades','Fire Crackle', 'Rain'\n",
        "sizes = [18/60, 57/60+1, 2+27/60, 1+49/60, 1+18/60,52/60,13/60,3, 21/60, 1, 2,2,2]\n",
        "colors = ['gold', 'yellowgreen', 'lightcoral', 'lightskyblue', 'pink', 'blue','lightgrey']\n",
        "\n",
        "\n",
        "# Plot\n",
        "plt.title('Total Train Dataset | 19.25 Hours', fontdict=None, loc='center', pad=None)\n",
        "plt.pie(sizes, explode=None, labels=labels, colors=None,\n",
        "autopct='%1.1f%%', shadow=True, startangle=140)\n",
        "\n",
        "plt.axis('equal')\n",
        "plt.show()\n",
        "\n",
        "# ------------------\n",
        "# Data to plot\n",
        "labels = 'Dolphin', 'Whale', 'SETI-TALKS'\n",
        "sizes = [1/6, 30/60, 1+22/60]\n",
        "colors = ['gold', 'yellowgreen', 'lightcoral', 'lightskyblue', 'pink', 'blue','lightgrey']\n",
        "\n",
        "\n",
        "# Plot\n",
        "plt.title('Test True | 2 hours', fontdict=None, loc='center', pad=None)\n",
        "plt.pie(sizes, explode=None, labels=labels, colors=colors,\n",
        "autopct='%1.1f%%', shadow=True, startangle=140)\n",
        "\n",
        "plt.axis('equal')\n",
        "plt.show()\n",
        "# ------------------\n",
        "\n",
        "# Data to plot\n",
        "labels = 'Dolphin', 'Whale', 'SETI-TALKS', 'White Noise'\n",
        "sizes = [1/6, 30/60, 1+22/60,1]\n",
        "colors = ['gold', 'yellowgreen', 'lightcoral', 'lightskyblue']\n",
        "\n",
        "\n",
        "# Plot\n",
        "plt.title('Total Test Dataset | 2 hours', fontdict=None, loc='center', pad=None)\n",
        "plt.pie(sizes, explode=None, labels=labels, colors=colors,\n",
        "autopct='%1.1f%%', shadow=True, startangle=140)\n",
        "\n",
        "plt.axis('equal')\n",
        "plt.show()"
      ],
      "execution_count": 0,
      "outputs": [
        {
          "output_type": "display_data",
          "data": {
            "image/png": "[encoded data removed]",
            "text/plain": [
              "<Figure size 432x288 with 1 Axes>"
            ]
          },
          "metadata": {
            "tags": []
          }
        },
        {
          "output_type": "display_data",
          "data": {
            "image/png": "[encoded data removed]",
            "text/plain": [
              "<Figure size 432x288 with 1 Axes>"
            ]
          },
          "metadata": {
            "tags": []
          }
        },
        {
          "output_type": "display_data",
          "data": {
            "image/png": "[encoded data removed]",
            "text/plain": [
              "<Figure size 432x288 with 1 Axes>"
            ]
          },
          "metadata": {
            "tags": []
          }
        },
        {
          "output_type": "display_data",
          "data": {
            "image/png": "[encoded data removed]",
            "text/plain": [
              "<Figure size 432x288 with 1 Axes>"
            ]
          },
          "metadata": {
            "tags": []
          }
        },
        {
          "output_type": "display_data",
          "data": {
            "image/png": "[encoded data removed]",
            "text/plain": [
              "<Figure size 432x288 with 1 Axes>"
            ]
          },
          "metadata": {
            "tags": []
          }
        }
      ]
    },
    {
      "cell_type": "code",
      "metadata": {
        "id": "tleRS_iZjUc6",
        "colab_type": "code",
        "colab": {}
      },
      "source": [
        "  LR = LeakyReLU(0.3)\n",
        "  LR.__name__ = 'relu'"
      ],
      "execution_count": 0,
      "outputs": []
    },
    {
      "cell_type": "code",
      "metadata": {
        "id": "4Sd3HkpZS7QZ",
        "colab_type": "code",
        "outputId": "47d60e0e-7bf0-456a-d861-b21e70df098f",
        "colab": {
          "base_uri": "https://localhost:8080/",
          "height": 1000
        }
      },
      "source": [
        "# https://stackoverflow.com/questions/46516774/drawing-a-diagram-to-illustrate-this-cnnlstm-network\n",
        "input_shape = dataset[0].shape\n",
        "kernel = 100\n",
        "epoch = 30\n",
        "learning_rate = 0.1\n",
        "\n",
        "model = Sequential()\n",
        "\n",
        "model.add(Convolution1D(32, kernel_size = kernel, strides=1, padding='same', input_shape=input_shape ))\n",
        "model.add(LR)\n",
        "model.add(MaxPooling1D(pool_size=(2)))\n",
        "model.add(Dropout(0.5))\n",
        "\n",
        "model.add(Convolution1D(64, kernel_size = kernel, strides=1, padding='same'))\n",
        "model.add(LR)\n",
        "model.add(MaxPooling1D(pool_size=(2)))\n",
        "model.add(Dropout(0.5))\n",
        "\n",
        "model.add(Convolution1D(128, kernel_size = kernel, strides=1, padding='same'))\n",
        "model.add(LR)\n",
        "model.add(MaxPooling1D(pool_size=(2)))\n",
        "model.add(Dropout(0.5))\n",
        "\n",
        "model.add(Convolution1D(256, kernel_size = kernel, strides=1, padding='same'))\n",
        "model.add(LR)\n",
        "model.add(MaxPooling1D(pool_size=(2)))\n",
        "model.add(Dropout(0.5))\n",
        "\n",
        "model.add(Convolution1D(512, kernel_size = kernel, strides=1, padding='same'))\n",
        "model.add(LR)\n",
        "model.add(MaxPooling1D(pool_size=(2)))\n",
        "model.add(Dropout(0.5))\n",
        "\n",
        "# model.add(TimeDistributed(Flatten()))\n",
        "# model.add(Flatten())\n",
        "# model.add(Embedding(10000, 64))\n",
        "# model.add(Dense(30))\n",
        "\n",
        "\n",
        "\n",
        "model.add(CuDNNLSTM(512, return_sequences=True))\n",
        "model.add(Dropout(0.5))\n",
        "model.add(CuDNNLSTM(512, return_sequences=True))\n",
        "model.add(Dropout(0.5))\n",
        "model.add(CuDNNLSTM(256, return_sequences=True))\n",
        "model.add(Dropout(0.5))\n",
        "model.add(CuDNNLSTM(256))\n",
        "model.add(Dropout(0.5))\n",
        "\n",
        "\n",
        "model.add(Dense(13230, activation=LR))\n",
        "model.add(Dropout(0.5))\n",
        "model.add(Dense(64, activation=LR))\n",
        "model.add(Dropout(0.5))\n",
        "model.add(Dense(2 , activation='sigmoid'))\n",
        "\n",
        "model.summary()\n",
        "\n",
        "sgd= SGD(lr=learning_rate, decay = learning_rate/epoch, momentum=0.0, nesterov=False)\n",
        "\n",
        "model.compile(loss='binary_crossentropy', optimizer=sgd, metrics=[\"accuracy\"])"
      ],
      "execution_count": 0,
      "outputs": [
        {
          "output_type": "stream",
          "text": [
            "Model: \"sequential_2\"\n",
            "_________________________________________________________________\n",
            "Layer (type)                 Output Shape              Param #   \n",
            "=================================================================\n",
            "conv1d_6 (Conv1D)            (None, 13230, 32)         6432      \n",
            "_________________________________________________________________\n",
            "leaky_re_lu_2 (LeakyReLU)    multiple                  0         \n",
            "_________________________________________________________________\n",
            "max_pooling1d_6 (MaxPooling1 (None, 6615, 32)          0         \n",
            "_________________________________________________________________\n",
            "dropout_12 (Dropout)         (None, 6615, 32)          0         \n",
            "_________________________________________________________________\n",
            "conv1d_7 (Conv1D)            (None, 6615, 64)          204864    \n",
            "_________________________________________________________________\n",
            "max_pooling1d_7 (MaxPooling1 (None, 3307, 64)          0         \n",
            "_________________________________________________________________\n",
            "dropout_13 (Dropout)         (None, 3307, 64)          0         \n",
            "_________________________________________________________________\n",
            "conv1d_8 (Conv1D)            (None, 3307, 128)         819328    \n",
            "_________________________________________________________________\n",
            "max_pooling1d_8 (MaxPooling1 (None, 1653, 128)         0         \n",
            "_________________________________________________________________\n",
            "dropout_14 (Dropout)         (None, 1653, 128)         0         \n",
            "_________________________________________________________________\n",
            "conv1d_9 (Conv1D)            (None, 1653, 256)         3277056   \n",
            "_________________________________________________________________\n",
            "max_pooling1d_9 (MaxPooling1 (None, 826, 256)          0         \n",
            "_________________________________________________________________\n",
            "dropout_15 (Dropout)         (None, 826, 256)          0         \n",
            "_________________________________________________________________\n",
            "conv1d_10 (Conv1D)           (None, 826, 512)          13107712  \n",
            "_________________________________________________________________\n",
            "max_pooling1d_10 (MaxPooling (None, 413, 512)          0         \n",
            "_________________________________________________________________\n",
            "dropout_16 (Dropout)         (None, 413, 512)          0         \n",
            "_________________________________________________________________\n",
            "cu_dnnlstm_5 (CuDNNLSTM)     (None, 413, 512)          2101248   \n",
            "_________________________________________________________________\n",
            "dropout_17 (Dropout)         (None, 413, 512)          0         \n",
            "_________________________________________________________________\n",
            "cu_dnnlstm_6 (CuDNNLSTM)     (None, 413, 512)          2101248   \n",
            "_________________________________________________________________\n",
            "dropout_18 (Dropout)         (None, 413, 512)          0         \n",
            "_________________________________________________________________\n",
            "cu_dnnlstm_7 (CuDNNLSTM)     (None, 413, 256)          788480    \n",
            "_________________________________________________________________\n",
            "dropout_19 (Dropout)         (None, 413, 256)          0         \n",
            "_________________________________________________________________\n",
            "cu_dnnlstm_8 (CuDNNLSTM)     (None, 256)               526336    \n",
            "_________________________________________________________________\n",
            "dropout_20 (Dropout)         (None, 256)               0         \n",
            "_________________________________________________________________\n",
            "dense_4 (Dense)              (None, 13230)             3400110   \n",
            "_________________________________________________________________\n",
            "dropout_21 (Dropout)         (None, 13230)             0         \n",
            "_________________________________________________________________\n",
            "dense_5 (Dense)              (None, 64)                846784    \n",
            "_________________________________________________________________\n",
            "dropout_22 (Dropout)         (None, 64)                0         \n",
            "_________________________________________________________________\n",
            "dense_6 (Dense)              (None, 2)                 130       \n",
            "=================================================================\n",
            "Total params: 27,179,728\n",
            "Trainable params: 27,179,728\n",
            "Non-trainable params: 0\n",
            "_________________________________________________________________\n"
          ],
          "name": "stdout"
        },
        {
          "output_type": "stream",
          "text": [
            "/usr/local/lib/python3.6/dist-packages/keras/activations.py:235: UserWarning: Do not pass a layer instance (such as LeakyReLU) as the activation argument of another layer. Instead, advanced activation layers should be used just like any other layer in a model.\n",
            "  identifier=identifier.__class__.__name__))\n"
          ],
          "name": "stderr"
        }
      ]
    },
    {
      "cell_type": "code",
      "metadata": {
        "id": "0gQ7QMQfgtYy",
        "colab_type": "code",
        "outputId": "24e3a6ed-c78a-4778-e029-f6f4a9360a21",
        "colab": {
          "base_uri": "https://localhost:8080/",
          "height": 1000
        }
      },
      "source": [
        "batch_size =1\n",
        "# es_callback = EarlyStopping(monitor='val_loss', mode='min')\n",
        "mc = ModelCheckpoint('model_7.h5', monitor='val_loss', mode='min', save_best_only=True)\n",
        "history = model.fit(X_train, y_train,  batch_size=batch_size, epochs=30, validation_data=(X_test, y_test), callbacks=[mc])\n",
        "\n",
        "from keras.models import load_model\n",
        "# saved_model = load_model('best_model.h5')"
      ],
      "execution_count": 0,
      "outputs": [
        {
          "output_type": "stream",
          "text": [
            "Train on 4220 samples, validate on 1056 samples\n",
            "Epoch 1/30\n",
            "4220/4220 [==============================] - 639s 151ms/step - loss: 0.6461 - acc: 0.5776 - val_loss: 0.6180 - val_acc: 0.6837\n",
            "Epoch 2/30\n",
            "4220/4220 [==============================] - 634s 150ms/step - loss: 0.6139 - acc: 0.6536 - val_loss: 0.5351 - val_acc: 0.7566\n",
            "Epoch 3/30\n",
            "4220/4220 [==============================] - 626s 148ms/step - loss: 0.3655 - acc: 0.8627 - val_loss: 0.2889 - val_acc: 0.8788\n",
            "Epoch 4/30\n",
            "4220/4220 [==============================] - 629s 149ms/step - loss: 0.2244 - acc: 0.9259 - val_loss: 0.3194 - val_acc: 0.8736\n",
            "Epoch 5/30\n",
            "4220/4220 [==============================] - 636s 151ms/step - loss: 0.2395 - acc: 0.9178 - val_loss: 0.2008 - val_acc: 0.9276\n",
            "Epoch 6/30\n",
            "4220/4220 [==============================] - 637s 151ms/step - loss: 0.2036 - acc: 0.9327 - val_loss: 0.2732 - val_acc: 0.8982\n",
            "Epoch 7/30\n",
            "4220/4220 [==============================] - 637s 151ms/step - loss: 0.1904 - acc: 0.9320 - val_loss: 0.2150 - val_acc: 0.9143\n",
            "Epoch 8/30\n",
            "4220/4220 [==============================] - 639s 151ms/step - loss: 0.1846 - acc: 0.9354 - val_loss: 0.2648 - val_acc: 0.9091\n",
            "Epoch 9/30\n",
            "4220/4220 [==============================] - 637s 151ms/step - loss: 0.1772 - acc: 0.9382 - val_loss: 0.2595 - val_acc: 0.8902\n",
            "Epoch 10/30\n",
            "4220/4220 [==============================] - 638s 151ms/step - loss: 0.2435 - acc: 0.9167 - val_loss: 0.3443 - val_acc: 0.8769\n",
            "Epoch 11/30\n",
            "4220/4220 [==============================] - 639s 151ms/step - loss: 0.1969 - acc: 0.9346 - val_loss: 0.2566 - val_acc: 0.9086\n",
            "Epoch 12/30\n",
            "4220/4220 [==============================] - 635s 150ms/step - loss: 0.1644 - acc: 0.9477 - val_loss: 0.1977 - val_acc: 0.9247\n",
            "Epoch 13/30\n",
            "4220/4220 [==============================] - 633s 150ms/step - loss: 0.1614 - acc: 0.9441 - val_loss: 0.2451 - val_acc: 0.9129\n",
            "Epoch 14/30\n",
            "4220/4220 [==============================] - 637s 151ms/step - loss: 0.1423 - acc: 0.9513 - val_loss: 0.2956 - val_acc: 0.9020\n",
            "Epoch 15/30\n",
            "4220/4220 [==============================] - 635s 150ms/step - loss: 0.1334 - acc: 0.9563 - val_loss: 0.1760 - val_acc: 0.9389\n",
            "Epoch 16/30\n",
            "4220/4220 [==============================] - 634s 150ms/step - loss: 0.1431 - acc: 0.9500 - val_loss: 0.2064 - val_acc: 0.9228\n",
            "Epoch 17/30\n",
            "4220/4220 [==============================] - 634s 150ms/step - loss: 0.1419 - acc: 0.9507 - val_loss: 0.1931 - val_acc: 0.9328\n",
            "Epoch 18/30\n",
            "4220/4220 [==============================] - 635s 151ms/step - loss: 0.1459 - acc: 0.9449 - val_loss: 0.1542 - val_acc: 0.9441\n",
            "Epoch 19/30\n",
            "4220/4220 [==============================] - 637s 151ms/step - loss: 0.1276 - acc: 0.9532 - val_loss: 0.1395 - val_acc: 0.9451\n",
            "Epoch 20/30\n",
            "4220/4220 [==============================] - 638s 151ms/step - loss: 0.1154 - acc: 0.9573 - val_loss: 0.2226 - val_acc: 0.9195\n",
            "Epoch 21/30\n",
            "4220/4220 [==============================] - 636s 151ms/step - loss: 0.1228 - acc: 0.9575 - val_loss: 0.2051 - val_acc: 0.9223\n",
            "Epoch 22/30\n",
            "4220/4220 [==============================] - 637s 151ms/step - loss: 0.1596 - acc: 0.9424 - val_loss: 0.2014 - val_acc: 0.9342\n",
            "Epoch 23/30\n",
            "4220/4220 [==============================] - 637s 151ms/step - loss: 0.1025 - acc: 0.9674 - val_loss: 0.2518 - val_acc: 0.8991\n",
            "Epoch 24/30\n",
            "4220/4220 [==============================] - 636s 151ms/step - loss: 0.1012 - acc: 0.9672 - val_loss: 0.1526 - val_acc: 0.9574\n",
            "Epoch 25/30\n",
            "4220/4220 [==============================] - 635s 151ms/step - loss: 0.0978 - acc: 0.9665 - val_loss: 0.1930 - val_acc: 0.9148\n",
            "Epoch 26/30\n",
            "4220/4220 [==============================] - 635s 150ms/step - loss: 0.0902 - acc: 0.9700 - val_loss: 0.1539 - val_acc: 0.9465\n",
            "Epoch 27/30\n",
            "4220/4220 [==============================] - 634s 150ms/step - loss: 0.1502 - acc: 0.9583 - val_loss: 0.1826 - val_acc: 0.9413\n",
            "Epoch 28/30\n",
            "4220/4220 [==============================] - 634s 150ms/step - loss: 0.1159 - acc: 0.9650 - val_loss: 0.7841 - val_acc: 0.7988\n",
            "Epoch 29/30\n",
            "4220/4220 [==============================] - 634s 150ms/step - loss: 0.1904 - acc: 0.9456 - val_loss: 0.3430 - val_acc: 0.8868\n",
            "Epoch 30/30\n",
            "4220/4220 [==============================] - 633s 150ms/step - loss: 0.3565 - acc: 0.8107 - val_loss: 0.6851 - val_acc: 0.5748\n"
          ],
          "name": "stdout"
        }
      ]
    },
    {
      "cell_type": "code",
      "metadata": {
        "id": "pkZSeFYGJYS-",
        "colab_type": "code",
        "outputId": "c1667ea5-1991-4869-aac4-2141879607b7",
        "colab": {
          "base_uri": "https://localhost:8080/",
          "height": 590
        }
      },
      "source": [
        "print(history.history.keys())\n",
        "# summarize history for accuracy\n",
        "plt.plot(history.history['acc'])\n",
        "plt.plot(history.history['val_acc'])\n",
        "plt.title('model accuracy')\n",
        "plt.ylabel('accuracy')\n",
        "plt.xlabel('epoch')\n",
        "plt.legend(['train', 'test'], loc='upper left')\n",
        "plt.show()\n",
        "# summarize history for loss\n",
        "plt.plot(history.history['loss'])\n",
        "plt.plot(history.history['val_loss'])\n",
        "plt.title('model loss')\n",
        "plt.ylabel('loss')\n",
        "plt.xlabel('epoch')\n",
        "plt.legend(['train', 'test'], loc='upper left') \n",
        "plt.show()"
      ],
      "execution_count": 0,
      "outputs": [
        {
          "output_type": "stream",
          "text": [
            "dict_keys(['val_loss', 'val_acc', 'loss', 'acc'])\n"
          ],
          "name": "stdout"
        },
        {
          "output_type": "display_data",
          "data": {
            "image/png": "[encoded data removed]",
            "text/plain": [
              "<Figure size 432x288 with 1 Axes>"
            ]
          },
          "metadata": {
            "tags": []
          }
        },
        {
          "output_type": "display_data",
          "data": {
            "image/png": "[encoded data removed]",
            "text/plain": [
              "<Figure size 432x288 with 1 Axes>"
            ]
          },
          "metadata": {
            "tags": []
          }
        }
      ]
    },
    {
      "cell_type": "code",
      "metadata": {
        "id": "5TYZ7QVsYWi5",
        "colab_type": "code",
        "outputId": "9704afee-b6e4-4583-8a42-a6fb9f7d68df",
        "colab": {
          "base_uri": "https://localhost:8080/",
          "height": 68
        }
      },
      "source": [
        "model = load_model('model_6.h5')\n",
        "randomnoise = np.random.rand(3,length_rate,2)\n",
        "\n",
        "print(model.predict(randomnoise))"
      ],
      "execution_count": 0,
      "outputs": [
        {
          "output_type": "stream",
          "text": [
            "[[0.00471833 0.9953089 ]\n",
            " [0.00441894 0.995575  ]\n",
            " [0.00473931 0.9952911 ]]\n"
          ],
          "name": "stdout"
        }
      ]
    },
    {
      "cell_type": "code",
      "metadata": {
        "id": "eYu_FsRdxISv",
        "colab_type": "code",
        "outputId": "affb1249-5fa0-4518-c3eb-03bca16beb24",
        "colab": {
          "base_uri": "https://localhost:8080/",
          "height": 102
        }
      },
      "source": [
        "file_name = '/content/drive/My Drive/data/True_Test_wav'\n",
        "# Searches for all files\n",
        "path, dirs, files = next(os.walk(file_name))\n",
        "# Finds the number of files. \n",
        "file_count = len(files)\n",
        "print('total num of files: ' + str(file_count))\n",
        "\n",
        "folder = '/content/drive/My Drive/data/True_Test_wav'\n",
        "rate = 441\n",
        "time_seconds = 30\n",
        "length_rate = rate*time_seconds\n",
        "file_count = file_count-1\n",
        "print(file_count)\n",
        "test_true = np.zeros((file_count, length_rate,2), dtype=float)\n",
        "for i in range(0,file_count):\n",
        "  if i%100==0:\n",
        "    print(str(i)+\" files have been loaded\")\n",
        "  name = folder+'/'+str(i+1)+'.wav'\n",
        "  test_true[i][:][:] = read_mp3(name, rate, True)\n",
        "print(\"Tensor shape: \"+ str(test_true.shape))"
      ],
      "execution_count": 0,
      "outputs": [
        {
          "output_type": "stream",
          "text": [
            "total num of files: 135\n",
            "134\n",
            "0 files have been loaded\n",
            "100 files have been loaded\n",
            "Tensor shape: (134, 13230, 2)\n"
          ],
          "name": "stdout"
        }
      ]
    },
    {
      "cell_type": "code",
      "metadata": {
        "id": "1Br2XEhvt3Cv",
        "colab_type": "code",
        "outputId": "5534bbd2-7edf-4019-8abe-34b0564f0cc3",
        "colab": {
          "base_uri": "https://localhost:8080/",
          "height": 102
        }
      },
      "source": [
        "file_name = '/content/drive/My Drive/data/False_Test_wav'\n",
        "# Searches for all files\n",
        "path, dirs, files = next(os.walk(file_name))\n",
        "# Finds the number of files. \n",
        "file_count = len(files)\n",
        "print('total num of files: ' + str(file_count))\n",
        "\n",
        "folder = '/content/drive/My Drive/data/False_Test_wav'\n",
        "rate = 441\n",
        "time_seconds = 30\n",
        "length_rate = rate*time_seconds\n",
        "file_count = file_count-1\n",
        "print(file_count)\n",
        "test_false = np.zeros((file_count, length_rate,2), dtype=float)\n",
        "for i in range(0,file_count):\n",
        "  if i%100==0:\n",
        "    print(str(i)+\" files have been loaded\")\n",
        "  name = folder+'/'+str(i+1)+'.wav'\n",
        "  test_false[i][:][:] = read_mp3(name, rate, True)\n",
        "print(\"Tensor shape: \"+ str(test_false.shape))\n",
        "# test_false = np.random.rand(134,length_rate,2)"
      ],
      "execution_count": 0,
      "outputs": [
        {
          "output_type": "stream",
          "text": [
            "total num of files: 120\n",
            "119\n",
            "0 files have been loaded\n",
            "100 files have been loaded\n",
            "Tensor shape: (119, 13230, 2)\n"
          ],
          "name": "stdout"
        }
      ]
    },
    {
      "cell_type": "code",
      "metadata": {
        "id": "ORSzkjEAuHSx",
        "colab_type": "code",
        "outputId": "7a1315f8-89c0-4c2d-e56e-db916a017cc1",
        "colab": {
          "base_uri": "https://localhost:8080/",
          "height": 51
        }
      },
      "source": [
        "labeltrue_test = np.concatenate((np.ones((test_true.shape[0],1),dtype='int64'),np.zeros((test_true.shape[0],1),dtype='int64')), axis=1)\n",
        "print(labeltrue_test.shape)\n",
        "labelfalse_test = np.concatenate((np.zeros((test_false.shape[0],1),dtype='int64'),np.ones((test_false.shape[0],1),dtype='int64')), axis=1)\n",
        "print(labelfalse_test.shape)\n",
        "test_label = np.concatenate((labeltrue_test, labelfalse_test))\n",
        "test = np.concatenate((test_true, test_false))"
      ],
      "execution_count": 0,
      "outputs": [
        {
          "output_type": "stream",
          "text": [
            "(134, 2)\n",
            "(119, 2)\n"
          ],
          "name": "stdout"
        }
      ]
    },
    {
      "cell_type": "code",
      "metadata": {
        "id": "LLDUN1xPPGQ2",
        "colab_type": "code",
        "outputId": "97c030a2-6884-4e33-bc5f-2816b12a1ff3",
        "colab": {
          "base_uri": "https://localhost:8080/",
          "height": 51
        }
      },
      "source": [
        "print(test_label[183])\n",
        "print(test_label[184])"
      ],
      "execution_count": 0,
      "outputs": [
        {
          "output_type": "stream",
          "text": [
            "[0 1]\n",
            "[0 1]\n"
          ],
          "name": "stdout"
        }
      ]
    },
    {
      "cell_type": "code",
      "metadata": {
        "id": "6r5qvuH1ufdX",
        "colab_type": "code",
        "colab": {}
      },
      "source": [
        "\n",
        "# test,test_label = shuffle(test,test_label, random_state=2)"
      ],
      "execution_count": 0,
      "outputs": []
    },
    {
      "cell_type": "code",
      "metadata": {
        "id": "mI7yCv7wPTYg",
        "colab_type": "code",
        "outputId": "236e71bd-a0d6-43d3-9b1c-13f969d9c96a",
        "colab": {
          "base_uri": "https://localhost:8080/",
          "height": 1000
        }
      },
      "source": [
        "print(model.predict(test_false))\n",
        "print('------------')\n",
        "print(model.predict(test_true))\n",
        "print('--------------')\n",
        "print(np.argmax(model.predict(test_false), axis=1))\n",
        "print(np.argmax(model.predict(test_true), axis=1))"
      ],
      "execution_count": 0,
      "outputs": [
        {
          "output_type": "stream",
          "text": [
            "[[0.01375166 0.98673224]\n",
            " [0.0262652  0.9748781 ]\n",
            " [0.01950738 0.98126316]\n",
            " [0.02516186 0.9759186 ]\n",
            " [0.01426485 0.9862083 ]\n",
            " [0.02097109 0.9798509 ]\n",
            " [0.01985863 0.9808994 ]\n",
            " [0.01193717 0.98843753]\n",
            " [0.01962343 0.9811348 ]\n",
            " [0.02266032 0.9783026 ]\n",
            " [0.02673373 0.97441995]\n",
            " [0.0184232  0.9822843 ]\n",
            " [0.01798055 0.9826977 ]\n",
            " [0.01784962 0.9828322 ]\n",
            " [0.02221611 0.9786874 ]\n",
            " [0.02211675 0.9787798 ]\n",
            " [0.01907501 0.9816605 ]\n",
            " [0.02021345 0.9806131 ]\n",
            " [0.01308993 0.98734725]\n",
            " [0.02195999 0.9789547 ]\n",
            " [0.01597989 0.9846339 ]\n",
            " [0.0158093  0.98476875]\n",
            " [0.01561382 0.98494613]\n",
            " [0.01712146 0.98350763]\n",
            " [0.02213737 0.9787719 ]\n",
            " [0.02312624 0.97783035]\n",
            " [0.01449528 0.9860126 ]\n",
            " [0.01548746 0.98506796]\n",
            " [0.01171109 0.9886811 ]\n",
            " [0.01897109 0.9817679 ]\n",
            " [0.02503091 0.9760247 ]\n",
            " [0.02071506 0.98008096]\n",
            " [0.01856306 0.98217416]\n",
            " [0.01374775 0.9867151 ]\n",
            " [0.01474667 0.98575974]\n",
            " [0.01471922 0.9857553 ]\n",
            " [0.02642784 0.97468066]\n",
            " [0.0186618  0.98206383]\n",
            " [0.01706448 0.9835824 ]\n",
            " [0.02355278 0.97744584]\n",
            " [0.02104327 0.97982454]\n",
            " [0.01347411 0.9869697 ]\n",
            " [0.01312983 0.98732054]\n",
            " [0.02252695 0.9784032 ]\n",
            " [0.03203499 0.969429  ]\n",
            " [0.01557812 0.98498714]\n",
            " [0.02253124 0.9783907 ]\n",
            " [0.02071768 0.98009044]\n",
            " [0.02336669 0.977643  ]\n",
            " [0.01191857 0.98847187]\n",
            " [0.02466616 0.97640157]\n",
            " [0.01879859 0.98193276]\n",
            " [0.01972193 0.98106873]\n",
            " [0.01575741 0.98478353]\n",
            " [0.01646352 0.9840989 ]\n",
            " [0.01750666 0.9831625 ]\n",
            " [0.01611236 0.9844682 ]\n",
            " [0.01483852 0.98567593]\n",
            " [0.02530932 0.9757757 ]\n",
            " [0.01398033 0.9865128 ]\n",
            " [0.01989475 0.980898  ]\n",
            " [0.02387664 0.9771767 ]\n",
            " [0.0276739  0.97353166]\n",
            " [0.02033302 0.9804939 ]\n",
            " [0.0066286  0.9935224 ]\n",
            " [0.02409491 0.9769504 ]\n",
            " [0.01789704 0.9827836 ]\n",
            " [0.01116347 0.98918736]\n",
            " [0.01826143 0.9824512 ]\n",
            " [0.02048704 0.98034084]\n",
            " [0.02241609 0.9784621 ]\n",
            " [0.02094948 0.97991526]\n",
            " [0.01619115 0.98439705]\n",
            " [0.0120489  0.9883525 ]\n",
            " [0.02039832 0.98044527]\n",
            " [0.01562488 0.98494506]\n",
            " [0.02138975 0.97944415]\n",
            " [0.02035904 0.9804449 ]\n",
            " [0.0177995  0.9828907 ]\n",
            " [0.02320886 0.9777967 ]\n",
            " [0.01912054 0.981642  ]\n",
            " [0.02180815 0.9790885 ]\n",
            " [0.0307053  0.9706508 ]\n",
            " [0.02285776 0.978102  ]\n",
            " [0.01451761 0.9859865 ]\n",
            " [0.02891466 0.9724163 ]\n",
            " [0.02719185 0.97398674]\n",
            " [0.01272431 0.98767257]\n",
            " [0.01851976 0.9821769 ]\n",
            " [0.01372907 0.98672694]\n",
            " [0.0136013  0.9868624 ]\n",
            " [0.0173761  0.9832765 ]\n",
            " [0.01563758 0.9849261 ]\n",
            " [0.02237186 0.9785794 ]\n",
            " [0.05224156 0.95026886]\n",
            " [0.01252341 0.9878974 ]\n",
            " [0.01377377 0.9867103 ]\n",
            " [0.01486993 0.98565507]\n",
            " [0.02007401 0.9806898 ]\n",
            " [0.02428994 0.97676   ]\n",
            " [0.00916478 0.9910933 ]\n",
            " [0.01417464 0.9863268 ]\n",
            " [0.01274672 0.987656  ]\n",
            " [0.01558805 0.98498094]\n",
            " [0.01064432 0.9896815 ]\n",
            " [0.01056302 0.989761  ]\n",
            " [0.02645418 0.9747194 ]\n",
            " [0.00884169 0.99141294]\n",
            " [0.01363873 0.9868139 ]\n",
            " [0.02643847 0.97471005]\n",
            " [0.01615313 0.9844332 ]\n",
            " [0.02215835 0.97878015]\n",
            " [0.01703575 0.98356336]\n",
            " [0.01543584 0.9851144 ]\n",
            " [0.01341486 0.9870274 ]\n",
            " [0.02409458 0.9769444 ]\n",
            " [0.01121363 0.9891334 ]\n",
            " [0.01698643 0.9836403 ]\n",
            " [0.62652665 0.34624714]]\n",
            "------------\n",
            "[[0.78402025 0.18931982]\n",
            " [0.00757483 0.9926155 ]\n",
            " [0.51484525 0.46272764]\n",
            " [0.88485444 0.094125  ]\n",
            " [0.5848303  0.3925095 ]\n",
            " [0.2298294  0.7825203 ]\n",
            " [0.8850712  0.09431693]\n",
            " [0.00800607 0.9922476 ]\n",
            " [0.617417   0.35448372]\n",
            " [0.6353763  0.33676332]\n",
            " [0.83307683 0.14190882]\n",
            " [0.26589924 0.74794513]\n",
            " [0.69388556 0.27776763]\n",
            " [0.02242285 0.9784081 ]\n",
            " [0.7999362  0.17323959]\n",
            " [0.8087259  0.1632345 ]\n",
            " [0.01027766 0.98993415]\n",
            " [0.42428207 0.57223344]\n",
            " [0.07194164 0.931437  ]\n",
            " [0.23841628 0.7721431 ]\n",
            " [0.0311195  0.9707713 ]\n",
            " [0.06243491 0.9410013 ]\n",
            " [0.00617689 0.99410206]\n",
            " [0.10565031 0.9000379 ]\n",
            " [0.00766799 0.9923668 ]\n",
            " [0.41541055 0.58115375]\n",
            " [0.34030837 0.6653737 ]\n",
            " [0.28749657 0.720719  ]\n",
            " [0.05058146 0.9523039 ]\n",
            " [0.00808588 0.992185  ]\n",
            " [0.0325276  0.9698578 ]\n",
            " [0.02079606 0.98010594]\n",
            " [0.06972739 0.93319285]\n",
            " [0.0365558  0.9655609 ]\n",
            " [0.03078914 0.97122824]\n",
            " [0.00405657 0.9960634 ]\n",
            " [0.09464347 0.91291773]\n",
            " [0.05210382 0.950006  ]\n",
            " [0.31832263 0.6888137 ]\n",
            " [0.02380458 0.97750473]\n",
            " [0.05473858 0.94632506]\n",
            " [0.22291714 0.7922776 ]\n",
            " [0.00699231 0.99308074]\n",
            " [0.1782808  0.8333453 ]\n",
            " [0.00601989 0.994033  ]\n",
            " [0.00435689 0.9957553 ]\n",
            " [0.1024583  0.9031702 ]\n",
            " [0.03863198 0.96284044]\n",
            " [0.14923576 0.8624296 ]\n",
            " [0.62373376 0.3481517 ]\n",
            " [0.01800436 0.9829056 ]\n",
            " [0.0094797  0.99069095]\n",
            " [0.14713636 0.86259353]\n",
            " [0.00211525 0.99788487]\n",
            " [0.00864697 0.9913727 ]\n",
            " [0.05002609 0.9532666 ]\n",
            " [0.10726979 0.8993333 ]\n",
            " [0.47125423 0.5135268 ]\n",
            " [0.09728885 0.9073713 ]\n",
            " [0.01204166 0.9882482 ]\n",
            " [0.35805684 0.64435047]\n",
            " [0.10870206 0.897069  ]\n",
            " [0.0061529  0.99405354]\n",
            " [0.0326739  0.96859753]\n",
            " [0.04231837 0.9588556 ]\n",
            " [0.00248924 0.99752784]\n",
            " [0.02890998 0.97259843]\n",
            " [0.01905155 0.98112166]\n",
            " [0.09558386 0.9102818 ]\n",
            " [0.0062705  0.993839  ]\n",
            " [0.01769227 0.98338234]\n",
            " [0.02779207 0.97338235]\n",
            " [0.01877952 0.9816451 ]\n",
            " [0.23536208 0.77725947]\n",
            " [0.10689956 0.89894074]\n",
            " [0.01042548 0.9902898 ]\n",
            " [0.31372577 0.69116837]\n",
            " [0.03301972 0.9685979 ]\n",
            " [0.05063298 0.9509673 ]\n",
            " [0.03454906 0.9662151 ]\n",
            " [0.00740257 0.99280965]\n",
            " [0.03208405 0.9698263 ]\n",
            " [0.0682205  0.9350583 ]\n",
            " [0.3758615  0.62729955]\n",
            " [0.01858953 0.9815487 ]\n",
            " [0.05827823 0.9439237 ]\n",
            " [0.01706457 0.98321754]\n",
            " [0.00456882 0.99545336]\n",
            " [0.40202618 0.5976241 ]\n",
            " [0.01882598 0.98235106]\n",
            " [0.03569803 0.9663132 ]\n",
            " [0.04639941 0.95491374]\n",
            " [0.02466717 0.9765605 ]\n",
            " [0.01882216 0.9822829 ]\n",
            " [0.02088898 0.9801983 ]\n",
            " [0.00719249 0.9929133 ]\n",
            " [0.01256856 0.9874077 ]\n",
            " [0.35634822 0.6523406 ]\n",
            " [0.05155119 0.9506222 ]\n",
            " [0.00694719 0.99300426]\n",
            " [0.19414592 0.8165443 ]\n",
            " [0.00719377 0.99298596]\n",
            " [0.00817865 0.9919404 ]\n",
            " [0.03969374 0.9625268 ]\n",
            " [0.03451279 0.9675082 ]\n",
            " [0.05328768 0.94947016]\n",
            " [0.00675178 0.99333405]\n",
            " [0.03814986 0.96322316]\n",
            " [0.01370803 0.9872009 ]\n",
            " [0.5830854  0.39484546]\n",
            " [0.00341612 0.9966284 ]\n",
            " [0.18890974 0.8228332 ]\n",
            " [0.05909771 0.944755  ]\n",
            " [0.25077206 0.7602407 ]\n",
            " [0.07987493 0.92487466]\n",
            " [0.0142172  0.986465  ]\n",
            " [0.09933326 0.9071834 ]\n",
            " [0.02209014 0.978774  ]\n",
            " [0.03595895 0.9657885 ]\n",
            " [0.09721407 0.9076326 ]\n",
            " [0.31690574 0.6952352 ]\n",
            " [0.08069783 0.9239477 ]\n",
            " [0.00289011 0.99705863]\n",
            " [0.01835322 0.9820318 ]\n",
            " [0.1012401  0.9030394 ]\n",
            " [0.11350325 0.89228696]\n",
            " [0.03453532 0.9678519 ]\n",
            " [0.04911458 0.952708  ]\n",
            " [0.02212855 0.978619  ]\n",
            " [0.17255697 0.835763  ]\n",
            " [0.25779092 0.7552711 ]\n",
            " [0.0081563  0.992048  ]\n",
            " [0.00962234 0.9909518 ]\n",
            " [0.05224425 0.9500545 ]]\n",
            "--------------\n",
            "[1 1 1 1 1 1 1 1 1 1 1 1 1 1 1 1 1 1 1 1 1 1 1 1 1 1 1 1 1 1 1 1 1 1 1 1 1\n",
            " 1 1 1 1 1 1 1 1 1 1 1 1 1 1 1 1 1 1 1 1 1 1 1 1 1 1 1 1 1 1 1 1 1 1 1 1 1\n",
            " 1 1 1 1 1 1 1 1 1 1 1 1 1 1 1 1 1 1 1 1 1 1 1 1 1 1 1 1 1 1 1 1 1 1 1 1 1\n",
            " 1 1 1 1 1 1 1 0]\n",
            "[0 1 0 0 0 1 0 1 0 0 0 1 0 1 0 0 1 1 1 1 1 1 1 1 1 1 1 1 1 1 1 1 1 1 1 1 1\n",
            " 1 1 1 1 1 1 1 1 1 1 1 1 0 1 1 1 1 1 1 1 1 1 1 1 1 1 1 1 1 1 1 1 1 1 1 1 1\n",
            " 1 1 1 1 1 1 1 1 1 1 1 1 1 1 1 1 1 1 1 1 1 1 1 1 1 1 1 1 1 1 1 1 1 1 1 0 1\n",
            " 1 1 1 1 1 1 1 1 1 1 1 1 1 1 1 1 1 1 1 1 1 1 1]\n"
          ],
          "name": "stdout"
        }
      ]
    },
    {
      "cell_type": "code",
      "metadata": {
        "id": "Sgytm-NBI_ry",
        "colab_type": "code",
        "outputId": "600604cf-5f98-41f7-e1b2-70538ac6daf0",
        "colab": {
          "base_uri": "https://localhost:8080/",
          "height": 495
        }
      },
      "source": [
        "print(np.argmax(test_label, axis=1))\n",
        "print(np.argmax(model.predict(test), axis=1))\n",
        "cm=confusion_matrix(np.argmax(test_label, axis=1), np.argmax(model.predict(test), axis=1))\n",
        "plt.matshow(cm)\n",
        "plt.title('Confusion matrix')\n",
        "plt.colorbar()\n",
        "plt.ylabel('True label')\n",
        "plt.xlabel('Predicted label')\n",
        "plt.show()"
      ],
      "execution_count": 0,
      "outputs": [
        {
          "output_type": "stream",
          "text": [
            "[0 0 0 0 0 0 0 0 0 0 0 0 0 0 0 0 0 0 0 0 0 0 0 0 0 0 0 0 0 0 0 0 0 0 0 0 0\n",
            " 0 0 0 0 0 0 0 0 0 0 0 0 0 0 0 0 0 0 0 0 0 0 0 0 0 0 0 0 0 0 0 0 0 0 0 0 0\n",
            " 0 0 0 0 0 0 0 0 0 0 0 0 0 0 0 0 0 0 0 0 0 0 0 0 0 0 0 0 0 0 0 0 0 0 0 0 0\n",
            " 0 0 0 0 0 0 0 0 0 0 0 0 0 0 0 0 0 0 0 0 0 0 0 1 1 1 1 1 1 1 1 1 1 1 1 1 1\n",
            " 1 1 1 1 1 1 1 1 1 1 1 1 1 1 1 1 1 1 1 1 1 1 1 1 1 1 1 1 1 1 1 1 1 1 1 1 1\n",
            " 1 1 1 1 1 1 1 1 1 1 1 1 1 1 1 1 1 1 1 1 1 1 1 1 1 1 1 1 1 1 1 1 1 1 1 1 1\n",
            " 1 1 1 1 1 1 1 1 1 1 1 1 1 1 1 1 1 1 1 1 1 1 1 1 1 1 1 1 1 1 1]\n",
            "[0 1 0 0 0 1 0 1 0 0 0 1 0 1 0 0 1 1 1 1 1 1 1 1 1 1 1 1 1 1 1 1 1 1 1 1 1\n",
            " 1 1 1 1 1 1 1 1 1 1 1 1 0 1 1 1 1 1 1 1 1 1 1 1 1 1 1 1 1 1 1 1 1 1 1 1 1\n",
            " 1 1 1 1 1 1 1 1 1 1 1 1 1 1 1 1 1 1 1 1 1 1 1 1 1 1 1 1 1 1 1 1 1 1 1 0 1\n",
            " 1 1 1 1 1 1 1 1 1 1 1 1 1 1 1 1 1 1 1 1 1 1 1 1 1 1 1 1 1 1 1 1 1 1 1 1 1\n",
            " 1 1 1 1 1 1 1 1 1 1 1 1 1 1 1 1 1 1 1 1 1 1 1 1 1 1 1 1 1 1 1 1 1 1 1 1 1\n",
            " 1 1 1 1 1 1 1 1 1 1 1 1 1 1 1 1 1 1 1 1 1 1 1 1 1 1 1 1 1 1 1 1 1 1 1 1 1\n",
            " 1 1 1 1 1 1 1 1 1 1 1 1 1 1 1 1 1 1 1 1 1 1 1 1 1 1 1 1 1 1 0]\n"
          ],
          "name": "stdout"
        },
        {
          "output_type": "display_data",
          "data": {
            "image/png": "[encoded data removed]",
            "text/plain": [
              "<Figure size 288x288 with 2 Axes>"
            ]
          },
          "metadata": {
            "tags": []
          }
        }
      ]
    },
    {
      "cell_type": "markdown",
      "metadata": {
        "id": "Shn3iEMEAXE8",
        "colab_type": "text"
      },
      "source": [
        ""
      ]
    }
  ]
}